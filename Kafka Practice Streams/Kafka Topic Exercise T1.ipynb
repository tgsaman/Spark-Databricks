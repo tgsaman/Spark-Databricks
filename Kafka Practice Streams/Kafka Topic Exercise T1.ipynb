{
 "cells": [
  {
   "cell_type": "code",
   "execution_count": 0,
   "metadata": {
    "application/vnd.databricks.v1+cell": {
     "cellMetadata": {
      "byteLimit": 2048000,
      "rowLimit": 10000
     },
     "inputWidgets": {},
     "nuid": "de36afc2-7b86-44ae-adee-1df766f739fb",
     "showTitle": false,
     "title": ""
    }
   },
   "outputs": [
    {
     "output_type": "stream",
     "name": "stdout",
     "output_type": "stream",
     "text": [
      "Requirement already satisfied: pip in /local_disk0/.ephemeral_nfs/envs/pythonEnv-03d776cd-a539-495b-8085-8e7ad8ee95ad/lib/python3.10/site-packages (22.2.2)\r\nCollecting pip\r\n  Using cached pip-24.0-py3-none-any.whl (2.1 MB)\r\nInstalling collected packages: pip\r\n  Attempting uninstall: pip\r\n    Found existing installation: pip 22.2.2\r\n    Uninstalling pip-22.2.2:\r\n      Successfully uninstalled pip-22.2.2\r\nSuccessfully installed pip-24.0\r\nCollecting kafka-python\r\n  Using cached kafka_python-2.0.2-py2.py3-none-any.whl.metadata (7.8 kB)\r\nUsing cached kafka_python-2.0.2-py2.py3-none-any.whl (246 kB)\r\nInstalling collected packages: kafka-python\r\nSuccessfully installed kafka-python-2.0.2\r\n"
     ]
    }
   ],
   "source": [
    "# Kafka package\n",
    "!pip install --upgrade pip\n",
    "!pip install kafka-python"
   ]
  },
  {
   "cell_type": "code",
   "execution_count": 0,
   "metadata": {
    "application/vnd.databricks.v1+cell": {
     "cellMetadata": {
      "byteLimit": 2048000,
      "rowLimit": 10000
     },
     "inputWidgets": {},
     "nuid": "ced0c852-b924-40a1-9aca-6df0d234e815",
     "showTitle": false,
     "title": ""
    }
   },
   "outputs": [],
   "source": [
    "from kafka import KafkaProducer, KafkaConsumer\n",
    "from kafka.admin import KafkaAdminClient, NewTopic"
   ]
  },
  {
   "cell_type": "code",
   "execution_count": 0,
   "metadata": {
    "application/vnd.databricks.v1+cell": {
     "cellMetadata": {
      "byteLimit": 2048000,
      "rowLimit": 10000
     },
     "inputWidgets": {},
     "nuid": "8749862b-07a6-4186-9730-ba2e90102220",
     "showTitle": false,
     "title": ""
    }
   },
   "outputs": [],
   "source": [
    "broker = ['franzlab2.eastus.cloudapp.azure.com']"
   ]
  },
  {
   "cell_type": "code",
   "execution_count": 0,
   "metadata": {
    "application/vnd.databricks.v1+cell": {
     "cellMetadata": {
      "byteLimit": 2048000,
      "rowLimit": 10000
     },
     "inputWidgets": {},
     "nuid": "34af0c34-dcb1-4fd1-8274-171b2630cc34",
     "showTitle": false,
     "title": ""
    }
   },
   "outputs": [
    {
     "output_type": "execute_result",
     "data": {
      "text/plain": [
       "CreateTopicsResponse_v3(throttle_time_ms=0, topic_errors=[(topic='myto20241212', error_code=0, error_message=None)])"
      ]
     },
     "execution_count": 6,
     "metadata": {},
     "output_type": "execute_result"
    }
   ],
   "source": [
    "# CREATE TOPIC\n",
    "ka = KafkaAdminClient(bootstrap_servers = broker)\n",
    "myTopicList = [NewTopic(name='myto20241212', num_partitions=10, replication_factor=1)]\n",
    "ka.create_topics(myTopicList, validate_only=False)\n"
   ]
  },
  {
   "cell_type": "code",
   "execution_count": 0,
   "metadata": {
    "application/vnd.databricks.v1+cell": {
     "cellMetadata": {
      "byteLimit": 2048000,
      "rowLimit": 10000
     },
     "inputWidgets": {},
     "nuid": "f239d800-03aa-4750-b2da-0777cb28aaf4",
     "showTitle": false,
     "title": ""
    }
   },
   "outputs": [],
   "source": [
    "# PRODUCER\n",
    "kp = KafkaProducer(bootstrap_servers = broker, acks = 1, batch_size = 0, retries = 1)\n",
    "\n",
    "for x in range(10):\n",
    "    txt = 'Hello. Message '+str(x)\n",
    "    kp.send('myto20241212', txt.encode())"
   ]
  },
  {
   "cell_type": "code",
   "execution_count": 0,
   "metadata": {
    "application/vnd.databricks.v1+cell": {
     "cellMetadata": {
      "byteLimit": 2048000,
      "rowLimit": 10000
     },
     "inputWidgets": {},
     "nuid": "c2f88d39-4500-45e4-b5f0-e032164f19ae",
     "showTitle": false,
     "title": ""
    }
   },
   "outputs": [],
   "source": [
    "# CONSUMER\n",
    "kc = KafkaConsumer( bootstrap_servers=broker, auto_offset_reset = 'earliest', consumer_timeout_ms = 500, group_id = 'hippopotamus')\n",
    "kc.subscribe('myto20241212')\n"
   ]
  },
  {
   "cell_type": "code",
   "execution_count": 0,
   "metadata": {
    "application/vnd.databricks.v1+cell": {
     "cellMetadata": {
      "byteLimit": 2048000,
      "rowLimit": 10000
     },
     "inputWidgets": {},
     "nuid": "924744a9-55ab-4c8a-af11-121f0b73744d",
     "showTitle": false,
     "title": ""
    }
   },
   "outputs": [
    {
     "output_type": "stream",
     "name": "stdout",
     "output_type": "stream",
     "text": [
      "{TopicPartition(topic='myto20241212', partition=5): [ConsumerRecord(topic='myto20241212', partition=5, offset=0, timestamp=1712674787798, timestamp_type=0, key=None, value=b'Hello. Message 5', headers=[], checksum=None, serialized_key_size=-1, serialized_value_size=16, serialized_header_size=-1)]}\n{TopicPartition(topic='myto20241212', partition=5): [ConsumerRecord(topic='myto20241212', partition=5, offset=1, timestamp=1712674787798, timestamp_type=0, key=None, value=b'Hello. Message 7', headers=[], checksum=None, serialized_key_size=-1, serialized_value_size=16, serialized_header_size=-1)]}\n{TopicPartition(topic='myto20241212', partition=5): [ConsumerRecord(topic='myto20241212', partition=5, offset=2, timestamp=1712674787798, timestamp_type=0, key=None, value=b'Hello. Message 8', headers=[], checksum=None, serialized_key_size=-1, serialized_value_size=16, serialized_header_size=-1)]}\n{TopicPartition(topic='myto20241212', partition=8): [ConsumerRecord(topic='myto20241212', partition=8, offset=0, timestamp=1712674787798, timestamp_type=0, key=None, value=b'Hello. Message 6', headers=[], checksum=None, serialized_key_size=-1, serialized_value_size=16, serialized_header_size=-1)]}\n{TopicPartition(topic='myto20241212', partition=7): [ConsumerRecord(topic='myto20241212', partition=7, offset=0, timestamp=1712674787798, timestamp_type=0, key=None, value=b'Hello. Message 9', headers=[], checksum=None, serialized_key_size=-1, serialized_value_size=16, serialized_header_size=-1)]}\n{TopicPartition(topic='myto20241212', partition=4): [ConsumerRecord(topic='myto20241212', partition=4, offset=0, timestamp=1712674787798, timestamp_type=0, key=None, value=b'Hello. Message 1', headers=[], checksum=None, serialized_key_size=-1, serialized_value_size=16, serialized_header_size=-1)]}\n{TopicPartition(topic='myto20241212', partition=2): [ConsumerRecord(topic='myto20241212', partition=2, offset=0, timestamp=1712674787798, timestamp_type=0, key=None, value=b'Hello. Message 4', headers=[], checksum=None, serialized_key_size=-1, serialized_value_size=16, serialized_header_size=-1)]}\n{TopicPartition(topic='myto20241212', partition=3): [ConsumerRecord(topic='myto20241212', partition=3, offset=0, timestamp=1712674787798, timestamp_type=0, key=None, value=b'Hello. Message 3', headers=[], checksum=None, serialized_key_size=-1, serialized_value_size=16, serialized_header_size=-1)]}\n{TopicPartition(topic='myto20241212', partition=1): [ConsumerRecord(topic='myto20241212', partition=1, offset=0, timestamp=1712674787798, timestamp_type=0, key=None, value=b'Hello. Message 0', headers=[], checksum=None, serialized_key_size=-1, serialized_value_size=16, serialized_header_size=-1)]}\n"
     ]
    }
   ],
   "source": [
    "# POLL\n",
    "for x in range(10):\n",
    "    m = kc.poll(timeout_ms=100, max_records=1)\n",
    "    if m:\n",
    "        print(m)"
   ]
  },
  {
   "cell_type": "code",
   "execution_count": 0,
   "metadata": {
    "application/vnd.databricks.v1+cell": {
     "cellMetadata": {
      "byteLimit": 2048000,
      "rowLimit": 10000
     },
     "inputWidgets": {},
     "nuid": "3782a374-129d-4ece-8bde-52baf8ee209e",
     "showTitle": false,
     "title": ""
    }
   },
   "outputs": [],
   "source": [
    "kc.close()"
   ]
  }
 ],
 "metadata": {
  "application/vnd.databricks.v1+notebook": {
   "dashboards": [],
   "language": "python",
   "notebookMetadata": {
    "pythonIndentUnit": 4
   },
   "notebookName": "Kafka Topic Exercise T1",
   "widgets": {}
  }
 },
 "nbformat": 4,
 "nbformat_minor": 0
}
