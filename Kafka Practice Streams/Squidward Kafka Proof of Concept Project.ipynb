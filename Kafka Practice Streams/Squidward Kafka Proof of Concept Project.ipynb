{
 "cells": [
  {
   "cell_type": "code",
   "execution_count": null,
   "metadata": {
    "application/vnd.databricks.v1+cell": {
     "cellMetadata": {
      "byteLimit": 2048000,
      "rowLimit": 10000
     },
     "inputWidgets": {},
     "nuid": "b277edb0-1c79-4aeb-b3c2-0d187e16c39f",
     "showTitle": false,
     "title": ""
    }
   },
   "outputs": [],
   "source": [
    "## Suitable Use-Case\n"
   ]
  },
  {
   "cell_type": "code",
   "execution_count": null,
   "metadata": {
    "application/vnd.databricks.v1+cell": {
     "cellMetadata": {
      "byteLimit": 2048000,
      "rowLimit": 10000
     },
     "inputWidgets": {},
     "nuid": "9e5dd4a2-2595-4ba4-acf7-d9e9fd9b68c8",
     "showTitle": false,
     "title": ""
    }
   },
   "outputs": [
    {
     "name": "stdout",
     "output_type": "stream",
     "text": [
      "Requirement already satisfied: pip in /local_disk0/.ephemeral_nfs/envs/pythonEnv-08d45e3e-bae3-41c9-8cd7-7eab59460be8/lib/python3.10/site-packages (24.0)\r\n",
      "Requirement already satisfied: kafka-python in /local_disk0/.ephemeral_nfs/envs/pythonEnv-08d45e3e-bae3-41c9-8cd7-7eab59460be8/lib/python3.10/site-packages (2.0.2)\r\n"
     ]
    }
   ],
   "source": [
    "!pip install --upgrade pip\n",
    "!pip install kafka-python"
   ]
  },
  {
   "cell_type": "code",
   "execution_count": null,
   "metadata": {
    "application/vnd.databricks.v1+cell": {
     "cellMetadata": {
      "byteLimit": 2048000,
      "rowLimit": 10000
     },
     "inputWidgets": {},
     "nuid": "0e6bb1d8-4bbb-4475-a4dc-186853fd04a0",
     "showTitle": false,
     "title": ""
    }
   },
   "outputs": [],
   "source": [
    "from kafka import KafkaConsumer,KafkaProducer\n",
    "from kafka.admin import KafkaAdminClient, NewTopic"
   ]
  },
  {
   "cell_type": "code",
   "execution_count": null,
   "metadata": {
    "application/vnd.databricks.v1+cell": {
     "cellMetadata": {
      "byteLimit": 2048000,
      "rowLimit": 10000
     },
     "inputWidgets": {},
     "nuid": "31d143eb-9b55-42ba-9baa-b8988cd54ea1",
     "showTitle": false,
     "title": ""
    }
   },
   "outputs": [],
   "source": [
    "brokers = ['franzlab2.eastus.cloudapp.azure.com']"
   ]
  },
  {
   "cell_type": "code",
   "execution_count": null,
   "metadata": {
    "application/vnd.databricks.v1+cell": {
     "cellMetadata": {
      "byteLimit": 2048000,
      "rowLimit": 10000
     },
     "inputWidgets": {},
     "nuid": "7456e8e8-4b9f-4382-b597-fb7640322340",
     "showTitle": false,
     "title": ""
    }
   },
   "outputs": [
    {
     "data": {
      "text/plain": [
       "{'1',\n",
       " '10_part_topic_nb',\n",
       " 'AlessandraNewTopic',\n",
       " 'Hello_David',\n",
       " 'Hello_David_V2',\n",
       " 'KushMsgs',\n",
       " 'Kushpoppie',\n",
       " 'MichaelsNewTopic',\n",
       " 'RandoCat',\n",
       " 'RandoDog',\n",
       " 'RandoFox',\n",
       " 'Shrek2',\n",
       " 'Shrek3',\n",
       " 'Shrek4',\n",
       " 'SimpleTest',\n",
       " 'SimpleTopic',\n",
       " 'SophieTopic',\n",
       " 'Spongebob',\n",
       " 'another',\n",
       " 'atopic',\n",
       " 'books_40_topic',\n",
       " 'bubblegum',\n",
       " 'catfacts-1',\n",
       " 'catfacts-h',\n",
       " 'catfacts-k',\n",
       " 'catfacts-n',\n",
       " 'cgy44ion',\n",
       " 'chumbucketorders',\n",
       " 'doesthistopicwork',\n",
       " 'dogfacts-h',\n",
       " 'dogfacts-k',\n",
       " 'dogfacts-l',\n",
       " 'dogfacts-n',\n",
       " 'doggo',\n",
       " 'emoji',\n",
       " 'emojis',\n",
       " 'exer_kafka_kus',\n",
       " 'exer_kafka_kush',\n",
       " 'grace',\n",
       " 'graceiscool',\n",
       " 'haliwu',\n",
       " 'hashtag_topic',\n",
       " 'hey',\n",
       " 'howdy_lauren',\n",
       " 'izzy_topic',\n",
       " 'kafkaexercise',\n",
       " 'kafkatop',\n",
       " 'katopic',\n",
       " 'keicii',\n",
       " 'kfy37mol',\n",
       " 'krustykrabsorders',\n",
       " 'ktopic',\n",
       " 'kubrickable04',\n",
       " 'kubrickable088',\n",
       " 'kubrickable28',\n",
       " 'kubrickable3',\n",
       " 'kubrickable39',\n",
       " 'kubrickable678',\n",
       " 'kubrickable8675309',\n",
       " 'kubrickable998',\n",
       " 'kubrickable999',\n",
       " 'lauren_topic1',\n",
       " 'long',\n",
       " 'michaelsTopic',\n",
       " 'mkmeswim',\n",
       " 'mlgPublishMyLegGuy',\n",
       " 'mlgTitleMyLegGuy',\n",
       " 'myFastTopic1',\n",
       " 'myFastTopic1234321',\n",
       " 'myFastTopicjaredz',\n",
       " 'myFirstTopic1',\n",
       " 'myUpdog',\n",
       " 'my_pets',\n",
       " 'myto20231212',\n",
       " 'myto20240130',\n",
       " 'myto20241212',\n",
       " 'nb_test_brew',\n",
       " 'nb_test_dog',\n",
       " 'never_gonna_give_you_up',\n",
       " 'newertopic',\n",
       " 'newtopicsr',\n",
       " 'nine',\n",
       " 'obi-wan',\n",
       " 'pets',\n",
       " 'pmccloud',\n",
       " 'shrek2',\n",
       " 'sillytopic',\n",
       " 'sillytopic2',\n",
       " 'skript101',\n",
       " 'skript1234',\n",
       " 'slTopic23451',\n",
       " 'sl_test_brew',\n",
       " 'sonam',\n",
       " 'soshmeds',\n",
       " 'spring_has_sprung',\n",
       " 'stream1',\n",
       " 'stream2',\n",
       " 'test',\n",
       " 'toad_jokes_first_topic',\n",
       " 'toad_jokes_first_topic1',\n",
       " 'toad_jokes_first_topic2',\n",
       " 'toad_jokes_second_topic',\n",
       " 'toad_jokes_second_topic1',\n",
       " 'toad_jokes_second_topic2',\n",
       " 'toad_jokes_topic',\n",
       " 'topic',\n",
       " 'topic1list',\n",
       " 'uk_stocks',\n",
       " 'us_stocks',\n",
       " 'waluigi_beer',\n",
       " 'waluigi_brewery',\n",
       " 'wavilaproject_9Apr2024',\n",
       " 'welp',\n",
       " 'yo',\n",
       " 'yourFastTopic2',\n",
       " 'yup'}"
      ]
     },
     "execution_count": 72,
     "metadata": {},
     "output_type": "execute_result"
    }
   ],
   "source": [
    "## View Topics\n",
    "\n",
    "kc = KafkaConsumer(bootstrap_servers=brokers, auto_offset_reset = 'earliest', group_id = 'x')\n",
    "kc.topics()\n",
    "\n",
    "## kc is not used anywhere else in this code."
   ]
  },
  {
   "cell_type": "code",
   "execution_count": null,
   "metadata": {
    "application/vnd.databricks.v1+cell": {
     "cellMetadata": {
      "byteLimit": 2048000,
      "rowLimit": 10000
     },
     "inputWidgets": {},
     "nuid": "3f1c1d64-0b69-44e4-96cc-fd9e8fffb307",
     "showTitle": false,
     "title": ""
    }
   },
   "outputs": [],
   "source": [
    "# Ideas\n",
    "# Squidward : Quotes & ... NOT USING\n",
    "# Krusty Krab: Orders made and items purchased (ingredients, tables, kitchen equipment, etc.)\n",
    "# Restaurants: Krusty Krab orders made and Chum Bucket orders made"
   ]
  },
  {
   "cell_type": "code",
   "execution_count": null,
   "metadata": {
    "application/vnd.databricks.v1+cell": {
     "cellMetadata": {
      "byteLimit": 2048000,
      "rowLimit": 10000
     },
     "inputWidgets": {},
     "nuid": "b958b62f-67ce-4724-a7ff-12d7db7aef71",
     "showTitle": false,
     "title": ""
    }
   },
   "outputs": [],
   "source": [
    "## Producer"
   ]
  },
  {
   "cell_type": "code",
   "execution_count": null,
   "metadata": {
    "application/vnd.databricks.v1+cell": {
     "cellMetadata": {
      "byteLimit": 2048000,
      "rowLimit": 10000
     },
     "inputWidgets": {},
     "nuid": "ba973477-e6a2-4d43-868f-b76c6d79f7ef",
     "showTitle": false,
     "title": ""
    }
   },
   "outputs": [],
   "source": [
    "# Wilson typing for topics in Producer\n",
    "\n",
    "squidwardTopicList = [NewTopic(name='krustykrabsorders', num_partitions=10, replication_factor=1)\n",
    "                     , NewTopic(name='chumbucketorders', num_partitions=10, replication_factor=1)]\n",
    "kt = KafkaAdminClient(bootstrap_servers = brokers)\n",
    "kt.create_topics(squidwardTopicList, validate_only=False)\n",
    "\n",
    "### Execute only when we have Topics firmly determined, editing each could be difficult\n",
    "### Executed at 11:42 AM on the 9th of April with no errors"
   ]
  },
  {
   "cell_type": "code",
   "execution_count": null,
   "metadata": {
    "application/vnd.databricks.v1+cell": {
     "cellMetadata": {
      "byteLimit": 2048000,
      "rowLimit": 10000
     },
     "inputWidgets": {},
     "nuid": "a49215e6-87f8-417a-aa10-cba90ca8f9af",
     "showTitle": false,
     "title": ""
    }
   },
   "outputs": [],
   "source": [
    "### Each topic takes 10 of something (in exapmle with 10 partitions, David had 10 txt's)\n",
    "### Krusty Krab and Chum Bucket take 10 orders each day, code should result in final product of a list of 10 dictionaries where each dictionary is an order with an order id\n",
    "\n",
    "krustykrabmenu = ['krabby patty', 'coral bits', 'krabby meal', 'salty sea dog', 'kelp shake', 'seafoam soda', \"sailor's surprise\"]\n",
    "chumbucketmenu = ['chum burger', 'chum fries', 'chum shake', 'chum on a stick', 'chumbalaya', 'chum chili', 'chum pie']\n",
    "\n",
    "## stretch goal: generate orders based around these menus\n"
   ]
  },
  {
   "cell_type": "code",
   "execution_count": null,
   "metadata": {
    "application/vnd.databricks.v1+cell": {
     "cellMetadata": {
      "byteLimit": 2048000,
      "rowLimit": 10000
     },
     "inputWidgets": {},
     "nuid": "9ed7f6ac-996b-4cdf-9d1a-7464cad5883c",
     "showTitle": false,
     "title": ""
    }
   },
   "outputs": [],
   "source": [
    "# Simulated Krusty Krab orders\n",
    "krustykrab_orders = [\n",
    "    {'order_id': 1, 'customer': 'SpongeBob', 'items': ['Krabby Patty', 'Kelp Shake']},\n",
    "    {'order_id': 2, 'customer': 'Patrick', 'items': ['Double Triple Bossy Deluxe', 'Kelp Rings']},\n",
    "    {'order_id': 3, 'customer': 'Squidward', 'items': ['Krabby Patty', 'Kelp Fries']},\n",
    "    {'order_id': 4, 'customer': 'Mr. Krabs', 'items': ['Krabby Patty', 'Kelp Rings']},\n",
    "    {'order_id': 5, 'customer': 'Gary', 'items': ['Kelp Bits']},\n",
    "    {'order_id': 6, 'customer': 'Plankton', 'items': ['Chum Burger', 'Chum Fries']},\n",
    "    {'order_id': 7, 'customer': 'Sandy', 'items': ['Kelp Shake', 'Kelp Rings']},\n",
    "    {'order_id': 8, 'customer': 'Pearl', 'items': ['Krabby Patty', 'Kelp Fries']},\n",
    "    {'order_id': 9, 'customer': 'Mrs. Puff', 'items': ['Kelp Shake', 'Kelp Rings']},\n",
    "    {'order_id': 10, 'customer': 'Larry', 'items': ['Krabby Patty', 'Kelp Rings']},\n",
    "]"
   ]
  },
  {
   "cell_type": "code",
   "execution_count": null,
   "metadata": {
    "application/vnd.databricks.v1+cell": {
     "cellMetadata": {
      "byteLimit": 2048000,
      "rowLimit": 10000
     },
     "inputWidgets": {},
     "nuid": "45726dfe-1287-48c0-9a67-f37fd389c553",
     "showTitle": false,
     "title": ""
    }
   },
   "outputs": [],
   "source": [
    "# Simulated Chum Bucket orders\n",
    "chum_bucket_orders = [\n",
    "    {'order_id': 101, 'customer': 'Plankton', 'items': ['Chum Burger', 'Chum Fries']},\n",
    "    {'order_id': 102, 'customer': 'Karen', 'items': ['Chum Shake']},\n",
    "    {'order_id': 103, 'customer': 'SpongeBob', 'items': ['Chum Burger', 'Chum Fries']},\n",
    "    {'order_id': 104, 'customer': 'Patrick', 'items': ['Chum Shake']},\n",
    "    {'order_id': 105, 'customer': 'Squidward', 'items': ['Chum Burger', 'Chum Fries']},\n",
    "    {'order_id': 106, 'customer': 'Mr. Krabs', 'items': ['Chum Shake']},\n",
    "    {'order_id': 107, 'customer': 'Gary', 'items': ['Chum Burger', 'Chum Fries']},\n",
    "    {'order_id': 108, 'customer': 'Sandy', 'items': ['Chum Shake']},\n",
    "    {'order_id': 109, 'customer': 'Pearl', 'items': ['Chum Burger', 'Chum Fries']},\n",
    "    {'order_id': 110, 'customer': 'Mrs. Puff', 'items': ['Chum Shake']},\n",
    "]"
   ]
  },
  {
   "cell_type": "code",
   "execution_count": null,
   "metadata": {
    "application/vnd.databricks.v1+cell": {
     "cellMetadata": {
      "byteLimit": 2048000,
      "rowLimit": 10000
     },
     "inputWidgets": {},
     "nuid": "555e09e2-dc57-4377-a93d-7ab0c0a75f77",
     "showTitle": false,
     "title": ""
    }
   },
   "outputs": [],
   "source": [
    "producer_krusty_krab = KafkaProducer(bootstrap_servers = brokers\n",
    "    , acks = 1\n",
    "    , batch_size = 0\n",
    "    , retries = 1\n",
    "    , max_in_flight_requests_per_connection = 1)"
   ]
  },
  {
   "cell_type": "code",
   "execution_count": null,
   "metadata": {
    "application/vnd.databricks.v1+cell": {
     "cellMetadata": {
      "byteLimit": 2048000,
      "rowLimit": 10000
     },
     "inputWidgets": {},
     "nuid": "8b53a5be-c9ca-4842-a23c-f028df929827",
     "showTitle": false,
     "title": ""
    }
   },
   "outputs": [
    {
     "name": "stdout",
     "output_type": "stream",
     "text": [
      "Sent Krusty Krab order: Order ID: 1, Customer: SpongeBob, Items: Krabby Patty, Kelp Shake\n",
      "Sent Krusty Krab order: Order ID: 2, Customer: Patrick, Items: Double Triple Bossy Deluxe, Kelp Rings\n",
      "Sent Krusty Krab order: Order ID: 3, Customer: Squidward, Items: Krabby Patty, Kelp Fries\n",
      "Sent Krusty Krab order: Order ID: 4, Customer: Mr. Krabs, Items: Krabby Patty, Kelp Rings\n",
      "Sent Krusty Krab order: Order ID: 5, Customer: Gary, Items: Kelp Bits\n",
      "Sent Krusty Krab order: Order ID: 6, Customer: Plankton, Items: Chum Burger, Chum Fries\n",
      "Sent Krusty Krab order: Order ID: 7, Customer: Sandy, Items: Kelp Shake, Kelp Rings\n",
      "Sent Krusty Krab order: Order ID: 8, Customer: Pearl, Items: Krabby Patty, Kelp Fries\n",
      "Sent Krusty Krab order: Order ID: 9, Customer: Mrs. Puff, Items: Kelp Shake, Kelp Rings\n",
      "Sent Krusty Krab order: Order ID: 10, Customer: Larry, Items: Krabby Patty, Kelp Rings\n"
     ]
    }
   ],
   "source": [
    "# Send Krusty Krab orders to the Krusty Krab topic\n",
    "\n",
    "for order in krustykrab_orders:\n",
    "    order_message = f\"Order ID: {order['order_id']}, Customer: {order['customer']}, Items: {', '.join(order['items'])}\"\n",
    "    producer_krusty_krab.send('krustykrabsorders', order_message.encode())\n",
    "    print(f\"Sent Krusty Krab order: {order_message}\")"
   ]
  },
  {
   "cell_type": "code",
   "execution_count": null,
   "metadata": {
    "application/vnd.databricks.v1+cell": {
     "cellMetadata": {
      "byteLimit": 2048000,
      "rowLimit": 10000
     },
     "inputWidgets": {},
     "nuid": "dace6bd1-e908-45c0-9b31-a269cf4265ce",
     "showTitle": false,
     "title": ""
    }
   },
   "outputs": [],
   "source": [
    "producer_chum_bucket = KafkaProducer(bootstrap_servers = brokers\n",
    "    , acks = 1\n",
    "    , batch_size = 0\n",
    "    , retries = 1\n",
    "    , max_in_flight_requests_per_connection = 1)"
   ]
  },
  {
   "cell_type": "code",
   "execution_count": null,
   "metadata": {
    "application/vnd.databricks.v1+cell": {
     "cellMetadata": {
      "byteLimit": 2048000,
      "rowLimit": 10000
     },
     "inputWidgets": {},
     "nuid": "5d2a9553-8b13-4ad0-baa5-b6cf48f447d7",
     "showTitle": false,
     "title": ""
    }
   },
   "outputs": [
    {
     "name": "stdout",
     "output_type": "stream",
     "text": [
      "Sent Chum Bucket order: Order ID: 101, Customer: Plankton, Items: Chum Burger, Chum Fries\n",
      "Sent Chum Bucket order: Order ID: 102, Customer: Karen, Items: Chum Shake\n",
      "Sent Chum Bucket order: Order ID: 103, Customer: SpongeBob, Items: Chum Burger, Chum Fries\n",
      "Sent Chum Bucket order: Order ID: 104, Customer: Patrick, Items: Chum Shake\n",
      "Sent Chum Bucket order: Order ID: 105, Customer: Squidward, Items: Chum Burger, Chum Fries\n",
      "Sent Chum Bucket order: Order ID: 106, Customer: Mr. Krabs, Items: Chum Shake\n",
      "Sent Chum Bucket order: Order ID: 107, Customer: Gary, Items: Chum Burger, Chum Fries\n",
      "Sent Chum Bucket order: Order ID: 108, Customer: Sandy, Items: Chum Shake\n",
      "Sent Chum Bucket order: Order ID: 109, Customer: Pearl, Items: Chum Burger, Chum Fries\n",
      "Sent Chum Bucket order: Order ID: 110, Customer: Mrs. Puff, Items: Chum Shake\n"
     ]
    }
   ],
   "source": [
    "# Send Chum Bucket orders to the Chum Bucket topic\n",
    "for order in chum_bucket_orders:\n",
    "    order_message = f\"Order ID: {order['order_id']}, Customer: {order['customer']}, Items: {', '.join(order['items'])}\"\n",
    "    producer_chum_bucket.send('chumbucketorders', order_message.encode())\n",
    "    print(f\"Sent Chum Bucket order: {order_message}\")\n"
   ]
  },
  {
   "cell_type": "code",
   "execution_count": null,
   "metadata": {
    "application/vnd.databricks.v1+cell": {
     "cellMetadata": {
      "byteLimit": 2048000,
      "rowLimit": 10000
     },
     "inputWidgets": {},
     "nuid": "85999d16-f4af-4c04-ad1c-de822d04868f",
     "showTitle": false,
     "title": ""
    }
   },
   "outputs": [
    {
     "name": "stdout",
     "output_type": "stream",
     "text": [
      "{TopicPartition(topic='krustykrabsorders', partition=6): [ConsumerRecord(topic='krustykrabsorders', partition=6, offset=0, timestamp=1712678812002, timestamp_type=0, key=None, value=b'Order ID: 6, Customer: Plankton, Items: Chum Burger, Chum Fries', headers=[], checksum=None, serialized_key_size=-1, serialized_value_size=63, serialized_header_size=-1)]}\n",
      "{TopicPartition(topic='krustykrabsorders', partition=6): [ConsumerRecord(topic='krustykrabsorders', partition=6, offset=1, timestamp=1712678970853, timestamp_type=0, key=None, value=b'Order ID: 6, Customer: Plankton, Items: Chum Burger, Chum Fries', headers=[], checksum=None, serialized_key_size=-1, serialized_value_size=63, serialized_header_size=-1)]}\n",
      "{TopicPartition(topic='krustykrabsorders', partition=6): [ConsumerRecord(topic='krustykrabsorders', partition=6, offset=2, timestamp=1712679162387, timestamp_type=0, key=None, value=b'Order ID: 10, Customer: Larry, Items: Krabby Patty, Kelp Rings', headers=[], checksum=None, serialized_key_size=-1, serialized_value_size=62, serialized_header_size=-1)]}\n",
      "{TopicPartition(topic='krustykrabsorders', partition=6): [ConsumerRecord(topic='krustykrabsorders', partition=6, offset=3, timestamp=1712679230833, timestamp_type=0, key=None, value=b'Order ID: 4, Customer: Mr. Krabs, Items: Krabby Patty, Kelp Rings', headers=[], checksum=None, serialized_key_size=-1, serialized_value_size=65, serialized_header_size=-1)]}\n",
      "{TopicPartition(topic='krustykrabsorders', partition=6): [ConsumerRecord(topic='krustykrabsorders', partition=6, offset=4, timestamp=1712679230833, timestamp_type=0, key=None, value=b'Order ID: 10, Customer: Larry, Items: Krabby Patty, Kelp Rings', headers=[], checksum=None, serialized_key_size=-1, serialized_value_size=62, serialized_header_size=-1)]}\n",
      "{TopicPartition(topic='krustykrabsorders', partition=6): [ConsumerRecord(topic='krustykrabsorders', partition=6, offset=5, timestamp=1712684141900, timestamp_type=0, key=None, value=b'Order ID: 7, Customer: Sandy, Items: Kelp Shake, Kelp Rings', headers=[], checksum=None, serialized_key_size=-1, serialized_value_size=59, serialized_header_size=-1)]}\n",
      "{TopicPartition(topic='krustykrabsorders', partition=6): [ConsumerRecord(topic='krustykrabsorders', partition=6, offset=6, timestamp=1712684141900, timestamp_type=0, key=None, value=b'Order ID: 10, Customer: Larry, Items: Krabby Patty, Kelp Rings', headers=[], checksum=None, serialized_key_size=-1, serialized_value_size=62, serialized_header_size=-1)]}\n",
      "{TopicPartition(topic='krustykrabsorders', partition=9): [ConsumerRecord(topic='krustykrabsorders', partition=9, offset=0, timestamp=1712678970853, timestamp_type=0, key=None, value=b'Order ID: 7, Customer: Sandy, Items: Kelp Shake, Kelp Rings', headers=[], checksum=None, serialized_key_size=-1, serialized_value_size=59, serialized_header_size=-1)]}\n",
      "{TopicPartition(topic='krustykrabsorders', partition=9): [ConsumerRecord(topic='krustykrabsorders', partition=9, offset=1, timestamp=1712679160306, timestamp_type=0, key=None, value=b'Order ID: 5, Customer: Gary, Items: Kelp Bits', headers=[], checksum=None, serialized_key_size=-1, serialized_value_size=45, serialized_header_size=-1)]}\n"
     ]
    }
   ],
   "source": [
    "## Consumer\n",
    "krustykrab_kafkaconsumer = KafkaConsumer(bootstrap_servers=brokers, auto_offset_reset = 'earliest', group_id = 'kfy37mol', consumer_timeout_ms = 500)\n",
    "\n",
    "krustykrab_kafkaconsumer.subscribe('krustykrabsorders')\n",
    "\n",
    "for x in range(10):\n",
    "    krab_message = krustykrab_kafkaconsumer.poll(timeout_ms=500, max_records=1)\n",
    "    if krab_message:\n",
    "        print(krab_message)\n",
    "\n"
   ]
  },
  {
   "cell_type": "code",
   "execution_count": null,
   "metadata": {
    "application/vnd.databricks.v1+cell": {
     "cellMetadata": {
      "byteLimit": 2048000,
      "rowLimit": 10000
     },
     "inputWidgets": {},
     "nuid": "d676737e-7cf1-48f1-894b-9d988e7a1c61",
     "showTitle": false,
     "title": ""
    }
   },
   "outputs": [
    {
     "name": "stdout",
     "output_type": "stream",
     "text": [
      "{TopicPartition(topic='chumbucketorders', partition=4): [ConsumerRecord(topic='chumbucketorders', partition=4, offset=0, timestamp=1712678814355, timestamp_type=0, key=None, value=b'Order ID: 103, Customer: SpongeBob, Items: Chum Burger, Chum Fries', headers=[], checksum=None, serialized_key_size=-1, serialized_value_size=66, serialized_header_size=-1)]}\n",
      "{TopicPartition(topic='chumbucketorders', partition=4): [ConsumerRecord(topic='chumbucketorders', partition=4, offset=1, timestamp=1712679235068, timestamp_type=0, key=None, value=b'Order ID: 101, Customer: Plankton, Items: Chum Burger, Chum Fries', headers=[], checksum=None, serialized_key_size=-1, serialized_value_size=65, serialized_header_size=-1)]}\n",
      "{TopicPartition(topic='chumbucketorders', partition=4): [ConsumerRecord(topic='chumbucketorders', partition=4, offset=2, timestamp=1712679235069, timestamp_type=0, key=None, value=b'Order ID: 105, Customer: Squidward, Items: Chum Burger, Chum Fries', headers=[], checksum=None, serialized_key_size=-1, serialized_value_size=66, serialized_header_size=-1)]}\n",
      "{TopicPartition(topic='chumbucketorders', partition=4): [ConsumerRecord(topic='chumbucketorders', partition=4, offset=3, timestamp=1712684149226, timestamp_type=0, key=None, value=b'Order ID: 101, Customer: Plankton, Items: Chum Burger, Chum Fries', headers=[], checksum=None, serialized_key_size=-1, serialized_value_size=65, serialized_header_size=-1)]}\n",
      "{TopicPartition(topic='chumbucketorders', partition=7): [ConsumerRecord(topic='chumbucketorders', partition=7, offset=3, timestamp=1712684149228, timestamp_type=0, key=None, value=b'Order ID: 106, Customer: Mr. Krabs, Items: Chum Shake', headers=[], checksum=None, serialized_key_size=-1, serialized_value_size=53, serialized_header_size=-1)]}\n",
      "{TopicPartition(topic='chumbucketorders', partition=9): [ConsumerRecord(topic='chumbucketorders', partition=9, offset=0, timestamp=1712684149227, timestamp_type=0, key=None, value=b'Order ID: 103, Customer: SpongeBob, Items: Chum Burger, Chum Fries', headers=[], checksum=None, serialized_key_size=-1, serialized_value_size=66, serialized_header_size=-1)]}\n",
      "{TopicPartition(topic='chumbucketorders', partition=9): [ConsumerRecord(topic='chumbucketorders', partition=9, offset=1, timestamp=1712684149228, timestamp_type=0, key=None, value=b'Order ID: 107, Customer: Gary, Items: Chum Burger, Chum Fries', headers=[], checksum=None, serialized_key_size=-1, serialized_value_size=61, serialized_header_size=-1)]}\n",
      "{TopicPartition(topic='chumbucketorders', partition=6): [ConsumerRecord(topic='chumbucketorders', partition=6, offset=0, timestamp=1712678814355, timestamp_type=0, key=None, value=b'Order ID: 106, Customer: Mr. Krabs, Items: Chum Shake', headers=[], checksum=None, serialized_key_size=-1, serialized_value_size=53, serialized_header_size=-1)]}\n",
      "{TopicPartition(topic='chumbucketorders', partition=6): [ConsumerRecord(topic='chumbucketorders', partition=6, offset=1, timestamp=1712678814355, timestamp_type=0, key=None, value=b'Order ID: 109, Customer: Pearl, Items: Chum Burger, Chum Fries', headers=[], checksum=None, serialized_key_size=-1, serialized_value_size=62, serialized_header_size=-1)]}\n"
     ]
    }
   ],
   "source": [
    "## Consumer 2\n",
    "chumbucket_kafkaconsumer = KafkaConsumer(bootstrap_servers=brokers, auto_offset_reset = 'earliest', group_id = 'cgy44ion', consumer_timeout_ms = 500)\n",
    "                                         \n",
    "chumbucket_kafkaconsumer.subscribe('chumbucketorders')\n",
    "\n",
    "for iteration in range(10):\n",
    "    chum_message = chumbucket_kafkaconsumer.poll(timeout_ms=500, max_records=1)\n",
    "    if chum_message:\n",
    "        print(chum_message)\n"
   ]
  },
  {
   "cell_type": "code",
   "execution_count": null,
   "metadata": {
    "application/vnd.databricks.v1+cell": {
     "cellMetadata": {
      "byteLimit": 2048000,
      "rowLimit": 10000
     },
     "inputWidgets": {},
     "nuid": "bd8ae469-edbf-4937-84f9-25473795cc2d",
     "showTitle": false,
     "title": ""
    }
   },
   "outputs": [],
   "source": [
    "krustykrab_kafkaconsumer.close()\n",
    "chumbucket_kafkaconsumer.close()"
   ]
  },
  {
   "cell_type": "code",
   "execution_count": null,
   "metadata": {
    "application/vnd.databricks.v1+cell": {
     "cellMetadata": {
      "byteLimit": 2048000,
      "rowLimit": 10000
     },
     "inputWidgets": {},
     "nuid": "1fdfad32-855d-43a8-8cfd-8d83640d959e",
     "showTitle": false,
     "title": ""
    }
   },
   "outputs": [],
   "source": [
    "# Close producer\n",
    "producer_krusty_krab.close()\n",
    "producer_chum_bucket.close()"
   ]
  },
  {
   "cell_type": "code",
   "execution_count": null,
   "metadata": {
    "application/vnd.databricks.v1+cell": {
     "cellMetadata": {},
     "inputWidgets": {},
     "nuid": "3cf1598a-66ae-4445-bf2e-3bf6b4ecf129",
     "showTitle": false,
     "title": ""
    }
   },
   "outputs": [],
   "source": []
  }
 ],
 "metadata": {
  "application/vnd.databricks.v1+notebook": {
   "dashboards": [],
   "language": "python",
   "notebookMetadata": {
    "pythonIndentUnit": 4
   },
   "notebookName": "Squidward Kafka Intro Project",
   "widgets": {}
  },
  "language_info": {
   "name": "python"
  }
 },
 "nbformat": 4,
 "nbformat_minor": 0
}
