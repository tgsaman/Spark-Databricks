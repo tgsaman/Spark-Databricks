{
 "cells": [
  {
   "cell_type": "markdown",
   "metadata": {},
   "source": [
    "West Wind (Joins) (Dataframe version)\n",
    "Data sources:\n",
    "\n",
    "https://gitlab.com/opstar/share20/-/raw/master/westwcustomer.txt?inline=false\n",
    "\n",
    "https://gitlab.com/opstar/share20/-/raw/master/westwproduct.txt?inline=false\n",
    "\n",
    "https://gitlab.com/opstar/share20/-/raw/master/westworder.txt?inline=false"
   ]
  },
  {
   "cell_type": "code",
   "execution_count": null,
   "metadata": {},
   "outputs": [],
   "source": [
    "rawcust = spark.read.format('csv').option('delimiter','|').load('/FileStore/sample/westwcustomer.txt')\n",
    "rawprod = spark.read.format('csv').option('delimiter','|').load('/FileStore/sample/westwproduct.txt')\n",
    "rawordr = spark.read.format('csv').option('delimiter','|').load('/FileStore/sample/westworder.txt')\n",
    "\n",
    "cust = rawcust.toDF('custnum','companyname','city','postcode','country')\n",
    "prod = rawprod.toDF('productnum','productname','categoryname','unitprice','unitstock')\n",
    "ordr = rawordr.toDF('ordernum','custnum','orderdate','shipname','shipaddress','shipcity','shipregion','shippostcode','shipcountry','productnum','unitprice','quantity','discount')"
   ]
  },
  {
   "cell_type": "code",
   "execution_count": 3,
   "metadata": {},
   "outputs": [],
   "source": [
    "from pyspark.sql.functions import count"
   ]
  },
  {
   "cell_type": "code",
   "execution_count": null,
   "metadata": {},
   "outputs": [],
   "source": [
    "## Q3 Count the Seafood orders - distinct() version\n",
    "prod.where(prod.categoryname == 'Seafood')\\\n",
    "    .join(ordr,'productnum')\\\n",
    "    .select('ordernum').distinct().count()"
   ]
  },
  {
   "cell_type": "code",
   "execution_count": null,
   "metadata": {
    "vscode": {
     "languageId": "html"
    }
   },
   "outputs": [],
   "source": [
    "291"
   ]
  },
  {
   "cell_type": "code",
   "execution_count": null,
   "metadata": {},
   "outputs": [],
   "source": [
    "## Q3 Count the Seafood orders - groupBy countDistinct() version\n",
    "from pyspark.sql.functions import countDistinct,count\n",
    "\n",
    "prod.where(prod.categoryname == 'Seafood')\\\n",
    "    .join(ordr,'productnum')\\\n",
    "    .groupBy().agg(countDistinct('ordernum')).show()"
   ]
  },
  {
   "cell_type": "code",
   "execution_count": null,
   "metadata": {
    "vscode": {
     "languageId": "html"
    }
   },
   "outputs": [],
   "source": [
    "+---------------+\n",
    "|count(ordernum)|\n",
    "+---------------+\n",
    "|            291|\n",
    "+---------------+\n"
   ]
  },
  {
   "cell_type": "code",
   "execution_count": null,
   "metadata": {},
   "outputs": [],
   "source": [
    "## Q3 Alternative solutions demonstratring the same answer with both inner and leftSemi\n",
    "ordr.join(prod.where(prod.categoryname == 'Seafood'),'productnum','inner')\\\n",
    "    .agg(countDistinct('ordernum')).show()\n",
    "\n",
    "ordr.join(prod.where(prod.categoryname == 'Seafood'),'productnum','leftSemi')\\\n",
    "    .agg(countDistinct('ordernum')).show()"
   ]
  },
  {
   "cell_type": "code",
   "execution_count": null,
   "metadata": {
    "vscode": {
     "languageId": "html"
    }
   },
   "outputs": [],
   "source": [
    "+---------------+\n",
    "|count(ordernum)|\n",
    "+---------------+\n",
    "|            291|\n",
    "+---------------+\n",
    "\n",
    "+---------------+\n",
    "|count(ordernum)|\n",
    "+---------------+\n",
    "|            291|\n",
    "+---------------+\n"
   ]
  },
  {
   "cell_type": "code",
   "execution_count": null,
   "metadata": {},
   "outputs": [],
   "source": [
    "## Q4 Customers who have not placed an order (anti-join)\n",
    "cust.join(ordr,'custnum','leftAnti').show()"
   ]
  },
  {
   "cell_type": "code",
   "execution_count": null,
   "metadata": {
    "vscode": {
     "languageId": "html"
    }
   },
   "outputs": [],
   "source": [
    "+-------+--------------------+------+--------+-------+\n",
    "|custnum|         companyname|  city|postcode|country|\n",
    "+-------+--------------------+------+--------+-------+\n",
    "|  PARIS|   Paris spécialités| Paris|   75012| France|\n",
    "|  FISSA|FISSA Fabrica Int...|Madrid|   28034|  Spain|\n",
    "+-------+--------------------+------+--------+-------+\n"
   ]
  },
  {
   "cell_type": "code",
   "execution_count": null,
   "metadata": {},
   "outputs": [],
   "source": [
    "cust.join(ordr,cust.custnum == ordr.custnum,'LeftOuter').select(cust.custnum,cust.companyname,cust.city,cust.postcode,cust.country).where(ordr.ordernum.isNull()).show()"
   ]
  },
  {
   "cell_type": "code",
   "execution_count": null,
   "metadata": {
    "vscode": {
     "languageId": "html"
    }
   },
   "outputs": [],
   "source": [
    "+-------+--------------------+------+--------+-------+\n",
    "|custnum|         companyname|  city|postcode|country|\n",
    "+-------+--------------------+------+--------+-------+\n",
    "|  PARIS|   Paris spécialités| Paris|   75012| France|\n",
    "|  FISSA|FISSA Fabrica Int...|Madrid|   28034|  Spain|\n",
    "+-------+--------------------+------+--------+-------+\n"
   ]
  },
  {
   "cell_type": "code",
   "execution_count": null,
   "metadata": {},
   "outputs": [],
   "source": [
    "cust.join(ordr,cust.custnum == ordr.custnum,'LeftOuter').select(cust.custnum,cust.companyname,cust.city,cust.postcode,cust.country).where(ordr.ordernum.isNull()).show()"
   ]
  },
  {
   "cell_type": "code",
   "execution_count": null,
   "metadata": {
    "vscode": {
     "languageId": "html"
    }
   },
   "outputs": [],
   "source": [
    "+-------+--------------------+------+--------+-------+\n",
    "|custnum|         companyname|  city|postcode|country|\n",
    "+-------+--------------------+------+--------+-------+\n",
    "|  PARIS|   Paris spécialités| Paris|   75012| France|\n",
    "|  FISSA|FISSA Fabrica Int...|Madrid|   28034|  Spain|\n",
    "+-------+--------------------+------+--------+-------+\n"
   ]
  }
 ],
 "metadata": {
  "kernelspec": {
   "display_name": "Python 3",
   "language": "python",
   "name": "python3"
  },
  "language_info": {
   "codemirror_mode": {
    "name": "ipython",
    "version": 3
   },
   "file_extension": ".py",
   "mimetype": "text/x-python",
   "name": "python",
   "nbconvert_exporter": "python",
   "pygments_lexer": "ipython3",
   "version": "3.11.8"
  }
 },
 "nbformat": 4,
 "nbformat_minor": 2
}
