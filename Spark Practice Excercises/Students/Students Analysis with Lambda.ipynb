{
 "cells": [
  {
   "cell_type": "code",
   "execution_count": 0,
   "metadata": {
    "application/vnd.databricks.v1+cell": {
     "cellMetadata": {
      "byteLimit": 2048000,
      "rowLimit": 10000
     },
     "inputWidgets": {},
     "nuid": "2d81739e-4193-4786-ad4d-09fa5404bff3",
     "showTitle": false,
     "title": ""
    }
   },
   "outputs": [],
   "source": [
    "student = \\\n",
    "  [('Joseph', 'Maths', 83), ('Joseph', 'Physics', 74),\n",
    "   ('Joseph', 'Chemistry', 91), ('Joseph', 'Biology', 82),\n",
    "   ('Jimmy', 'Maths', 69), ('Jimmy', 'Physics', 62),\n",
    "   ('Jimmy', 'Chemistry', 97), ('Jimmy', 'Biology', 80),\n",
    "   ('Tina', 'Maths', 78), ('Tina', 'Physics', 73),\n",
    "   ('Tina', 'Chemistry', 68), ('Tina', 'Biology', 87),\n",
    "   ('Thomas', 'Maths', 87), ('Thomas', 'Physics', 93),\n",
    "   ('Thomas', 'Chemistry', 91), ('Thomas', 'Biology', 74),\n",
    "   ('Cory', 'Maths', 56), ('Cory', 'Physics', 65),\n",
    "   ('Cory', 'Chemistry', 71), ('Cory', 'Biology', 68),\n",
    "   ('Jackie', 'Maths', 86), ('Jackie', 'Physics', 62),\n",
    "   ('Jackie', 'Chemistry', 75), ('Jackie', 'Biology', 83),\n",
    "   ('Juan', 'Maths', 63), ('Juan', 'Physics', 69),\n",
    "   ('Juan', 'Chemistry', 64), ('Juan', 'Biology', 60)]"
   ]
  },
  {
   "cell_type": "code",
   "execution_count": 0,
   "metadata": {
    "application/vnd.databricks.v1+cell": {
     "cellMetadata": {
      "byteLimit": 2048000,
      "rowLimit": 10000
     },
     "inputWidgets": {},
     "nuid": "d1d05580-c028-402e-9ff3-fa060f375739",
     "showTitle": false,
     "title": ""
    }
   },
   "outputs": [],
   "source": [
    "s = sc.parallelize(student)"
   ]
  },
  {
   "cell_type": "code",
   "execution_count": 0,
   "metadata": {
    "application/vnd.databricks.v1+cell": {
     "cellMetadata": {
      "byteLimit": 2048000,
      "rowLimit": 10000
     },
     "inputWidgets": {},
     "nuid": "c1dbc6af-c6a2-4fdd-a90b-930f2549e844",
     "showTitle": false,
     "title": ""
    }
   },
   "outputs": [
    {
     "output_type": "execute_result",
     "data": {
      "text/plain": [
       "[('Joseph', 'Maths', 83),\n",
       " ('Joseph', 'Physics', 74),\n",
       " ('Joseph', 'Chemistry', 91),\n",
       " ('Joseph', 'Biology', 82),\n",
       " ('Jimmy', 'Maths', 69),\n",
       " ('Jimmy', 'Physics', 62),\n",
       " ('Jimmy', 'Chemistry', 97),\n",
       " ('Jimmy', 'Biology', 80),\n",
       " ('Tina', 'Maths', 78),\n",
       " ('Tina', 'Physics', 73),\n",
       " ('Tina', 'Chemistry', 68),\n",
       " ('Tina', 'Biology', 87),\n",
       " ('Thomas', 'Maths', 87),\n",
       " ('Thomas', 'Physics', 93),\n",
       " ('Thomas', 'Chemistry', 91),\n",
       " ('Thomas', 'Biology', 74),\n",
       " ('Cory', 'Maths', 56),\n",
       " ('Cory', 'Physics', 65),\n",
       " ('Cory', 'Chemistry', 71),\n",
       " ('Cory', 'Biology', 68),\n",
       " ('Jackie', 'Maths', 86),\n",
       " ('Jackie', 'Physics', 62),\n",
       " ('Jackie', 'Chemistry', 75),\n",
       " ('Jackie', 'Biology', 83),\n",
       " ('Juan', 'Maths', 63),\n",
       " ('Juan', 'Physics', 69),\n",
       " ('Juan', 'Chemistry', 64),\n",
       " ('Juan', 'Biology', 60)]"
      ]
     },
     "execution_count": 3,
     "metadata": {},
     "output_type": "execute_result"
    }
   ],
   "source": [
    "s.collect()"
   ]
  },
  {
   "cell_type": "code",
   "execution_count": 0,
   "metadata": {
    "application/vnd.databricks.v1+cell": {
     "cellMetadata": {},
     "inputWidgets": {},
     "nuid": "f9078072-0ae0-4384-8df3-155399a133f6",
     "showTitle": false,
     "title": ""
    }
   },
   "outputs": [],
   "source": []
  },
  {
   "cell_type": "code",
   "execution_count": 0,
   "metadata": {
    "application/vnd.databricks.v1+cell": {
     "cellMetadata": {
      "byteLimit": 2048000,
      "rowLimit": 10000
     },
     "inputWidgets": {},
     "nuid": "5b99122d-0676-473d-a158-d631e28a72f9",
     "showTitle": false,
     "title": ""
    }
   },
   "outputs": [],
   "source": [
    "def passmark (x):\n",
    "    return (x[2] >= 80)"
   ]
  },
  {
   "cell_type": "code",
   "execution_count": 0,
   "metadata": {
    "application/vnd.databricks.v1+cell": {
     "cellMetadata": {
      "byteLimit": 2048000,
      "rowLimit": 10000
     },
     "inputWidgets": {},
     "nuid": "0e84e057-0e78-422a-803f-2e06fe1b4489",
     "showTitle": false,
     "title": ""
    }
   },
   "outputs": [
    {
     "output_type": "execute_result",
     "data": {
      "text/plain": [
       "[('Joseph', 'Maths', 83),\n",
       " ('Joseph', 'Chemistry', 91),\n",
       " ('Joseph', 'Biology', 82),\n",
       " ('Jimmy', 'Chemistry', 97),\n",
       " ('Jimmy', 'Biology', 80),\n",
       " ('Tina', 'Biology', 87),\n",
       " ('Thomas', 'Maths', 87),\n",
       " ('Thomas', 'Physics', 93),\n",
       " ('Thomas', 'Chemistry', 91),\n",
       " ('Jackie', 'Maths', 86),\n",
       " ('Jackie', 'Biology', 83)]"
      ]
     },
     "execution_count": 5,
     "metadata": {},
     "output_type": "execute_result"
    }
   ],
   "source": [
    "s.filter(passmark).collect()"
   ]
  },
  {
   "cell_type": "code",
   "execution_count": 0,
   "metadata": {
    "application/vnd.databricks.v1+cell": {
     "cellMetadata": {
      "byteLimit": 2048000,
      "rowLimit": 10000
     },
     "inputWidgets": {},
     "nuid": "02fec620-0f2f-4c8b-9d26-998000abea42",
     "showTitle": false,
     "title": ""
    }
   },
   "outputs": [
    {
     "output_type": "execute_result",
     "data": {
      "text/plain": [
       "[('Joseph', 'Maths', 83),\n",
       " ('Joseph', 'Chemistry', 91),\n",
       " ('Joseph', 'Biology', 82),\n",
       " ('Jimmy', 'Chemistry', 97),\n",
       " ('Jimmy', 'Biology', 80),\n",
       " ('Tina', 'Biology', 87),\n",
       " ('Thomas', 'Maths', 87),\n",
       " ('Thomas', 'Physics', 93),\n",
       " ('Thomas', 'Chemistry', 91),\n",
       " ('Jackie', 'Maths', 86),\n",
       " ('Jackie', 'Biology', 83)]"
      ]
     },
     "execution_count": 6,
     "metadata": {},
     "output_type": "execute_result"
    }
   ],
   "source": [
    "s.filter(lambda x : x[2] >= 80).collect()"
   ]
  },
  {
   "cell_type": "code",
   "execution_count": 0,
   "metadata": {
    "application/vnd.databricks.v1+cell": {
     "cellMetadata": {
      "byteLimit": 2048000,
      "rowLimit": 10000
     },
     "inputWidgets": {},
     "nuid": "842ef721-5c70-45ba-b6f5-d7eca5264acd",
     "showTitle": false,
     "title": ""
    }
   },
   "outputs": [],
   "source": [
    "def mult (x,y):\n",
    "    return x*y"
   ]
  },
  {
   "cell_type": "code",
   "execution_count": 0,
   "metadata": {
    "application/vnd.databricks.v1+cell": {
     "cellMetadata": {
      "byteLimit": 2048000,
      "rowLimit": 10000
     },
     "inputWidgets": {},
     "nuid": "e2d19229-8921-4bc1-8de5-7b2051757b14",
     "showTitle": false,
     "title": ""
    }
   },
   "outputs": [
    {
     "output_type": "execute_result",
     "data": {
      "text/plain": [
       "[(('Joseph', 'Biology'), 82),\n",
       " (('Juan', 'Physics'), 69),\n",
       " (('Jimmy', 'Physics'), 62),\n",
       " (('Tina', 'Physics'), 73),\n",
       " (('Jackie', 'Physics'), 62),\n",
       " (('Thomas', 'Maths'), 87),\n",
       " (('Cory', 'Biology'), 68),\n",
       " (('Jackie', 'Maths'), 86),\n",
       " (('Joseph', 'Physics'), 74),\n",
       " (('Joseph', 'Chemistry'), 91),\n",
       " (('Thomas', 'Chemistry'), 91),\n",
       " (('Cory', 'Physics'), 65),\n",
       " (('Jackie', 'Chemistry'), 75),\n",
       " (('Jackie', 'Biology'), 83),\n",
       " (('Cory', 'Chemistry'), 71),\n",
       " (('Tina', 'Chemistry'), 68),\n",
       " (('Thomas', 'Physics'), 93),\n",
       " (('Juan', 'Biology'), 60),\n",
       " (('Joseph', 'Maths'), 83),\n",
       " (('Thomas', 'Biology'), 74),\n",
       " (('Tina', 'Maths'), 78),\n",
       " (('Cory', 'Maths'), 56),\n",
       " (('Tina', 'Biology'), 87),\n",
       " (('Juan', 'Maths'), 63),\n",
       " (('Jimmy', 'Biology'), 80),\n",
       " (('Jimmy', 'Chemistry'), 97),\n",
       " (('Juan', 'Chemistry'), 64),\n",
       " (('Jimmy', 'Maths'), 69)]"
      ]
     },
     "execution_count": 8,
     "metadata": {},
     "output_type": "execute_result"
    }
   ],
   "source": [
    "p1 = s.map(lambda z : ((z[0],z[1]),z[2]))\n",
    "p2 = p1.reduceByKey(lambda x,y: x+y)\n",
    "p2.collect()"
   ]
  },
  {
   "cell_type": "code",
   "execution_count": 0,
   "metadata": {
    "application/vnd.databricks.v1+cell": {
     "cellMetadata": {
      "byteLimit": 2048000,
      "rowLimit": 10000
     },
     "inputWidgets": {},
     "nuid": "5af31fb8-f4b8-447c-989d-15b03322b3b6",
     "showTitle": false,
     "title": ""
    }
   },
   "outputs": [
    {
     "output_type": "execute_result",
     "data": {
      "text/plain": [
       "[('Juan', 256),\n",
       " ('Jackie', 306),\n",
       " ('Joseph', 330),\n",
       " ('Jimmy', 308),\n",
       " ('Cory', 260),\n",
       " ('Thomas', 345),\n",
       " ('Tina', 306)]"
      ]
     },
     "execution_count": 9,
     "metadata": {},
     "output_type": "execute_result"
    }
   ],
   "source": [
    "s.map(lambda z : (z[0],z[2]))\\\n",
    "    .reduceByKey(lambda x,y: x+y)\\\n",
    "    .collect()"
   ]
  },
  {
   "cell_type": "code",
   "execution_count": 0,
   "metadata": {
    "application/vnd.databricks.v1+cell": {
     "cellMetadata": {
      "byteLimit": 2048000,
      "rowLimit": 10000
     },
     "inputWidgets": {},
     "nuid": "8e298564-76b1-4716-bf2b-914f1fbb76de",
     "showTitle": false,
     "title": ""
    }
   },
   "outputs": [
    {
     "output_type": "execute_result",
     "data": {
      "text/plain": [
       "[('Joseph', 1),\n",
       " ('Joseph', 1),\n",
       " ('Joseph', 1),\n",
       " ('Joseph', 1),\n",
       " ('Jimmy', 1),\n",
       " ('Jimmy', 1),\n",
       " ('Jimmy', 1),\n",
       " ('Jimmy', 1),\n",
       " ('Tina', 1),\n",
       " ('Tina', 1),\n",
       " ('Tina', 1),\n",
       " ('Tina', 1),\n",
       " ('Thomas', 1),\n",
       " ('Thomas', 1),\n",
       " ('Thomas', 1),\n",
       " ('Thomas', 1),\n",
       " ('Cory', 1),\n",
       " ('Cory', 1),\n",
       " ('Cory', 1),\n",
       " ('Cory', 1),\n",
       " ('Jackie', 1),\n",
       " ('Jackie', 1),\n",
       " ('Jackie', 1),\n",
       " ('Jackie', 1),\n",
       " ('Juan', 1),\n",
       " ('Juan', 1),\n",
       " ('Juan', 1),\n",
       " ('Juan', 1)]"
      ]
     },
     "execution_count": 10,
     "metadata": {},
     "output_type": "execute_result"
    }
   ],
   "source": [
    "s.map(lambda z : (z[0],1)).collect()"
   ]
  },
  {
   "cell_type": "code",
   "execution_count": 0,
   "metadata": {
    "application/vnd.databricks.v1+cell": {
     "cellMetadata": {
      "byteLimit": 2048000,
      "rowLimit": 10000
     },
     "inputWidgets": {},
     "nuid": "2c0e948c-58d7-4fac-a187-833c243b0e20",
     "showTitle": false,
     "title": ""
    }
   },
   "outputs": [
    {
     "output_type": "execute_result",
     "data": {
      "text/plain": [
       "[('Juan', 4),\n",
       " ('Jackie', 4),\n",
       " ('Joseph', 4),\n",
       " ('Jimmy', 4),\n",
       " ('Cory', 4),\n",
       " ('Thomas', 4),\n",
       " ('Tina', 4)]"
      ]
     },
     "execution_count": 11,
     "metadata": {},
     "output_type": "execute_result"
    }
   ],
   "source": [
    "s.map(lambda z : (z[0],1))\\\n",
    "    .reduceByKey(lambda x,y: x+y)\\\n",
    "    .collect()"
   ]
  },
  {
   "cell_type": "code",
   "execution_count": 0,
   "metadata": {
    "application/vnd.databricks.v1+cell": {
     "cellMetadata": {},
     "inputWidgets": {},
     "nuid": "34809f33-2b05-4f29-aeb9-37071173aeb3",
     "showTitle": false,
     "title": ""
    }
   },
   "outputs": [],
   "source": []
  }
 ],
 "metadata": {
  "application/vnd.databricks.v1+notebook": {
   "dashboards": [],
   "language": "python",
   "notebookMetadata": {
    "pythonIndentUnit": 4
   },
   "notebookName": "Untitled Notebook 2024-04-04 16:01:34",
   "widgets": {}
  }
 },
 "nbformat": 4,
 "nbformat_minor": 0
}
