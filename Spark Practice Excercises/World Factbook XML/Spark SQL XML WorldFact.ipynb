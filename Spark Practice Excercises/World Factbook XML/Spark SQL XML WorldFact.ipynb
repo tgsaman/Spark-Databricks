{
 "cells": [
  {
   "cell_type": "markdown",
   "metadata": {
    "application/vnd.databricks.v1+cell": {
     "cellMetadata": {
      "byteLimit": 2048000,
      "rowLimit": 10000
     },
     "inputWidgets": {},
     "nuid": "1b6350b0-92cb-415d-a0ee-e9e6ec61b29c",
     "showTitle": false,
     "title": ""
    }
   },
   "source": [
    "## XML World Fact\n",
    "Data source: https://gitlab.com/opstar/share20/-/raw/master/worldfact.xml\n",
    "\n",
    "Read [here](https://gitlab.com/opstar/share20/-/raw/master/Reading_XML_data_in_Spark.pdf) if you need help installing the XML library\n"
   ]
  },
  {
   "cell_type": "code",
   "execution_count": null,
   "metadata": {
    "application/vnd.databricks.v1+cell": {
     "cellMetadata": {
      "byteLimit": 2048000,
      "rowLimit": 10000
     },
     "inputWidgets": {},
     "nuid": "8527bee8-4789-4a61-b7e5-29ef7af5ef93",
     "showTitle": false,
     "title": ""
    }
   },
   "outputs": [],
   "source": [
    "from pyspark.sql.functions import explode, regexp_replace, trim\n"
   ]
  },
  {
   "cell_type": "code",
   "execution_count": null,
   "metadata": {
    "application/vnd.databricks.v1+cell": {
     "cellMetadata": {
      "byteLimit": 2048000,
      "rowLimit": 10000
     },
     "inputWidgets": {},
     "nuid": "19378136-c6e0-462a-8222-def6aa0c41f2",
     "showTitle": false,
     "title": ""
    }
   },
   "outputs": [],
   "source": [
    "wcountry = spark.read.format('xml')\\\n",
    "  .options(rowTag='country')\\\n",
    "  .load('/FileStore/sample/worldfact.xml')\n",
    "\n",
    "wcity = spark.read.format('xml')\\\n",
    "  .options(rowTag='city')\\\n",
    "  .load('/FileStore/sample/worldfact.xml')\n"
   ]
  },
  {
   "cell_type": "code",
   "execution_count": null,
   "metadata": {
    "application/vnd.databricks.v1+cell": {
     "cellMetadata": {
      "byteLimit": 2048000,
      "rowLimit": 10000
     },
     "inputWidgets": {},
     "nuid": "521109de-104f-4700-9671-923439c1b547",
     "showTitle": false,
     "title": ""
    }
   },
   "outputs": [
    {
     "name": "stdout",
     "output_type": "stream",
     "text": [
      "+-------+--------------------+----------+\n",
      "|country|         countryname|countrypop|\n",
      "+-------+--------------------+----------+\n",
      "| f0_136|             Albania|   3249136|\n",
      "| f0_144|             Andorra|     72766|\n",
      "| f0_149|             Austria|   8023244|\n",
      "| f0_157|             Belarus|  10415973|\n",
      "| f0_162|             Belgium|  10170241|\n",
      "| f0_169|Bosnia and Herzeg...|   2656240|\n",
      "| f0_174|            Bulgaria|   8612757|\n",
      "| f0_179|             Croatia|   5004112|\n",
      "| f0_184|      Czech Republic|  10321120|\n",
      "| f0_193|             Denmark|   5249632|\n",
      "| f0_198|             Estonia|   1459428|\n",
      "| f0_203|       Faroe Islands|     43857|\n",
      "| f0_208|             Finland|   5105230|\n",
      "| f0_213|              France|  58317448|\n",
      "| f0_220|             Germany|  83536112|\n",
      "| f0_227|           Gibraltar|     28765|\n",
      "| f0_232|              Greece|  10538594|\n",
      "| f0_239|            Guernsey|     62920|\n",
      "| f0_244|            Holy See|       840|\n",
      "| f0_251|             Hungary|  10002541|\n",
      "+-------+--------------------+----------+\n",
      "only showing top 20 rows\n",
      "\n"
     ]
    }
   ],
   "source": [
    "country = wcountry.selectExpr('_id AS country','_name AS countryname','int(_population) AS countrypop')\n",
    "\n",
    "country.show()"
   ]
  },
  {
   "cell_type": "code",
   "execution_count": null,
   "metadata": {
    "application/vnd.databricks.v1+cell": {
     "cellMetadata": {
      "byteLimit": 2048000,
      "rowLimit": 10000
     },
     "inputWidgets": {},
     "nuid": "22de0dca-061e-4603-bb0f-c458c7a5b4d6",
     "showTitle": false,
     "title": ""
    }
   },
   "outputs": [
    {
     "name": "stdout",
     "output_type": "stream",
     "text": [
      "+-------+----------------+-------+\n",
      "|country|        cityname|citypop|\n",
      "+-------+----------------+-------+\n",
      "| f0_136|          Tirane| 192000|\n",
      "| f0_136|         Shkoder|  62000|\n",
      "| f0_136|          Durres|  60000|\n",
      "| f0_136|           Vlore|  56000|\n",
      "| f0_136|         Elbasan|  53000|\n",
      "| f0_136|           Korce|  52000|\n",
      "| f0_144|Andorra la Vella|  15600|\n",
      "| f0_149|      Eisenstadt|  10102|\n",
      "| f0_149|      Klagenfurt|  87321|\n",
      "| f0_149|         Bregenz|   NULL|\n",
      "| f0_149|          Vienna|1583000|\n",
      "| f0_149|            Linz| 203000|\n",
      "| f0_149|       Innsbruck| 118000|\n",
      "| f0_149|            Graz| 238000|\n",
      "| f0_149|        Salzburg| 144000|\n",
      "| f0_149|      St. Polten|  51102|\n",
      "| f0_157|           Minsk|1540000|\n",
      "| f0_162|         Antwerp| 459072|\n",
      "| f0_162|        Brussels| 951580|\n",
      "| f0_162|           Ghent| 227483|\n",
      "+-------+----------------+-------+\n",
      "only showing top 20 rows\n",
      "\n"
     ]
    }
   ],
   "source": [
    "city = wcity\\\n",
    "  .withColumn('cityname',wcity.name[0])\\\n",
    "  .withColumn('citypop',wcity.population._VALUE[0])\\\n",
    "  .withColumn('cityname',trim(regexp_replace('cityname','[\\n]+','')))\\\n",
    "  .selectExpr(['_country AS country','cityname','int(citypop) AS citypop'])\n",
    "\n",
    "city.show()"
   ]
  },
  {
   "cell_type": "code",
   "execution_count": null,
   "metadata": {
    "application/vnd.databricks.v1+cell": {
     "cellMetadata": {
      "byteLimit": 2048000,
      "rowLimit": 10000
     },
     "inputWidgets": {},
     "nuid": "58c2a20e-a7f5-472e-9af3-9a51f3ee46f1",
     "showTitle": false,
     "title": ""
    }
   },
   "outputs": [
    {
     "name": "stdout",
     "output_type": "stream",
     "text": [
      "+--------------------+----------+-------------+-------+-------+\n",
      "|         countryname|countrypop|     cityname|citypop|citypct|\n",
      "+--------------------+----------+-------------+-------+-------+\n",
      "|       Liechtenstein|     31122|        Vaduz|  27714|     89|\n",
      "|           Singapore|   3396924|    Singapore|2558000|     75|\n",
      "| Antigua and Barbuda|     65647|  Saint Johns|  36000|     54|\n",
      "|             Bahamas|    259367|       Nassau| 140000|     53|\n",
      "|            Holy See|       840| Vatican City|    392|     46|\n",
      "|               Palau|     16952|        Koror|   7685|     45|\n",
      "|               Qatar|    547761|         Doha| 217294|     39|\n",
      "|             Uruguay|   3238952|   Montevideo|1247000|     38|\n",
      "|              Latvia|   2468982|         Riga| 900000|     36|\n",
      "|Saint Kitts and N...|     41369|   Basseterre|  14700|     35|\n",
      "|             Armenia|   3463574|      Yerevan|1200000|     34|\n",
      "|            Suriname|    436418|   Paramaribo| 150000|     34|\n",
      "|             Estonia|   1459428|      Tallinn| 478000|     32|\n",
      "|             Iceland|    270292|    Reykjavik|  84000|     31|\n",
      "|         Saint Lucia|    157862|     Castries|  49000|     31|\n",
      "|             Grenada|     94961|Saint Georges|  30000|     31|\n",
      "|               Chile|  14333258|     Santiago|4318000|     30|\n",
      "|Saint Vincent and...|    118344|    Kingstown|  33694|     28|\n",
      "|           Nicaragua|   4272352|      Managua|1195000|     27|\n",
      "|               Tonga|    106466|    Nukualofa|  28899|     27|\n",
      "+--------------------+----------+-------------+-------+-------+\n",
      "only showing top 20 rows\n",
      "\n"
     ]
    }
   ],
   "source": [
    "allcities = country.join(city,'country')\\\n",
    "  .selectExpr('countryname','countrypop','cityname','citypop','int(citypop/countrypop*100) AS citypct')\n",
    "\n",
    "allcities.orderBy(allcities.citypct.desc()).show()\n",
    "\n"
   ]
  },
  {
   "cell_type": "markdown",
   "metadata": {},
   "source": [
    "# The hard way, engineered by Kush"
   ]
  },
  {
   "cell_type": "code",
   "execution_count": null,
   "metadata": {},
   "outputs": [],
   "source": [
    "c = spark.read.format('xml')\\\n",
    ".options(rowTag='worldfact')\\\n",
    ".load('/FileStore/sample/worldfact.xml')\n",
    "\n",
    "c.printSchema()"
   ]
  },
  {
   "cell_type": "code",
   "execution_count": null,
   "metadata": {
    "vscode": {
     "languageId": "html"
    }
   },
   "outputs": [],
   "source": [
    "root\n",
    " |-- continent: array (nullable = true)\n",
    " |    |-- element: struct (containsNull = true)\n",
    " |    |    |-- _VALUE: string (nullable = true)\n",
    " |    |    |-- _id: string (nullable = true)\n",
    " |    |    |-- _name: string (nullable = true)\n",
    " |-- country: array (nullable = true)\n",
    " |    |-- element: struct (containsNull = true)\n",
    " |    |    |-- _capital: string (nullable = true)\n",
    " |    |    |-- _car_code: string (nullable = true)\n",
    " |    |    |-- _datacode: string (nullable = true)\n",
    " |    |    |-- _gdp_agri: double (nullable = true)\n",
    " |    |    |-- _gdp_ind: double (nullable = true)\n",
    " |    |    |-- _gdp_serv: double (nullable = true)\n",
    " |    |    |-- _gdp_total: double (nullable = true)\n",
    " |    |    |-- _government: string (nullable = true)\n",
    " |    |    |-- _id: string (nullable = true)\n",
    " |    |    |-- _indep_date: string (nullable = true)\n",
    " |    |    |-- _infant_mortality: double (nullable = true)\n",
    " |    |    |-- _inflation: double (nullable = true)\n",
    " |    |    |-- _name: string (nullable = true)\n",
    " |    |    |-- _population: string (nullable = true)\n",
    " |    |    |-- _population_growth: double (nullable = true)\n",
    " |    |    |-- _total_area: double (nullable = true)\n",
    " |    |    |-- border: array (nullable = true)\n",
    "...\n",
    " |    |    |    |    |-- _VALUE: string (nullable = true)\n",
    " |    |    |    |    |-- _country: string (nullable = true)\n",
    " |    |    |    |    |-- _province: string (nullable = true)"
   ]
  },
  {
   "cell_type": "code",
   "execution_count": null,
   "metadata": {},
   "outputs": [],
   "source": [
    "c2 = c.withColumn('country_detail', explode('country')).select('country_detail.*')\n",
    "c2.printSchema()"
   ]
  },
  {
   "cell_type": "code",
   "execution_count": null,
   "metadata": {
    "vscode": {
     "languageId": "html"
    }
   },
   "outputs": [],
   "source": [
    "root\n",
    " |-- _capital: string (nullable = true)\n",
    " |-- _car_code: string (nullable = true)\n",
    " |-- _datacode: string (nullable = true)\n",
    " |-- _gdp_agri: double (nullable = true)\n",
    " |-- _gdp_ind: double (nullable = true)\n",
    " |-- _gdp_serv: double (nullable = true)\n",
    " |-- _gdp_total: double (nullable = true)\n",
    " |-- _government: string (nullable = true)\n",
    " |-- _id: string (nullable = true)\n",
    " |-- _indep_date: string (nullable = true)\n",
    " |-- _infant_mortality: double (nullable = true)\n",
    " |-- _inflation: double (nullable = true)\n",
    " |-- _name: string (nullable = true)\n",
    " |-- _population: string (nullable = true)\n",
    " |-- _population_growth: double (nullable = true)\n",
    " |-- _total_area: double (nullable = true)\n",
    " |-- border: array (nullable = true)\n",
    " |    |-- element: struct (containsNull = true)\n",
    " |    |    |-- _VALUE: string (nullable = true)\n",
    " |    |    |-- _country: string (nullable = true)\n",
    " |    |    |-- _length: double (nullable = true)\n",
    " |-- city: array (nullable = true)\n",
    " |    |-- element: struct (containsNull = true)\n",
    " |    |    |-- _country: string (nullable = true)\n",
    "...\n",
    " |    |-- element: struct (containsNull = true)\n",
    " |    |    |-- _VALUE: string (nullable = true)\n",
    " |    |    |-- _percentage: double (nullable = true)"
   ]
  },
  {
   "cell_type": "code",
   "execution_count": null,
   "metadata": {},
   "outputs": [],
   "source": [
    "country_df = c2.selectExpr('_name AS country_name', '_population AS country_pop', '_id')\n",
    "country_df.show()"
   ]
  },
  {
   "cell_type": "code",
   "execution_count": null,
   "metadata": {
    "vscode": {
     "languageId": "html"
    }
   },
   "outputs": [],
   "source": [
    "This produces the appropriate output for Country, which can then be joined with an output for City [unaccomplished]"
   ]
  }
 ],
 "metadata": {
  "application/vnd.databricks.v1+notebook": {
   "dashboards": [],
   "language": "python",
   "notebookMetadata": {
    "pythonIndentUnit": 2
   },
   "notebookName": "Spark SQL XML WorldFact",
   "widgets": {}
  },
  "language_info": {
   "name": "python"
  }
 },
 "nbformat": 4,
 "nbformat_minor": 0
}
