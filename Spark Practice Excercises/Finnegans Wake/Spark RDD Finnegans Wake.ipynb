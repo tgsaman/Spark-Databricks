{
 "cells": [
  {
   "cell_type": "markdown",
   "metadata": {
    "application/vnd.databricks.v1+cell": {
     "cellMetadata": {
      "byteLimit": 2048000,
      "rowLimit": 10000
     },
     "inputWidgets": {},
     "nuid": "e6eeb6e6-bfe3-4a50-bd66-8709944f88ae",
     "showTitle": false,
     "title": ""
    }
   },
   "source": [
    "# Finnegans Wake\n",
    "Data source: https://gitlab.com/opstar/share20/-/raw/master/fwake.txt?inline=false"
   ]
  },
  {
   "cell_type": "code",
   "execution_count": null,
   "metadata": {
    "application/vnd.databricks.v1+cell": {
     "cellMetadata": {
      "byteLimit": 2048000,
      "rowLimit": 10000
     },
     "inputWidgets": {},
     "nuid": "cbc266d3-d16c-4f61-ac30-e9eed7f745b2",
     "showTitle": false,
     "title": ""
    }
   },
   "outputs": [],
   "source": [
    "wakeraw = sc.textFile('/FileStore/sample/fwake.txt')\n",
    "wake = wakeraw.flatMap(lambda x:x.split())"
   ]
  },
  {
   "cell_type": "code",
   "execution_count": null,
   "metadata": {
    "application/vnd.databricks.v1+cell": {
     "cellMetadata": {
      "byteLimit": 2048000,
      "rowLimit": 10000
     },
     "inputWidgets": {},
     "nuid": "44cd7d30-9c53-43d5-804c-0927b500da06",
     "showTitle": false,
     "title": ""
    }
   },
   "outputs": [
    {
     "data": {
      "text/plain": [
       "73811"
      ]
     },
     "execution_count": 3,
     "metadata": {},
     "output_type": "execute_result"
    }
   ],
   "source": [
    " wake.distinct().count()"
   ]
  },
  {
   "cell_type": "code",
   "execution_count": null,
   "metadata": {
    "application/vnd.databricks.v1+cell": {
     "cellMetadata": {
      "byteLimit": 2048000,
      "rowLimit": 10000
     },
     "inputWidgets": {},
     "nuid": "fa5fbdec-4b43-422d-8ca2-9782fac7fe77",
     "showTitle": false,
     "title": ""
    }
   },
   "outputs": [
    {
     "data": {
      "text/plain": [
       "[('(klikkaklakkaklaskaklopatzklatschabattacreppycrottygraddaghsemmihsammihnouithappluddyappladdypkonpkot!).',\n",
       "  104),\n",
       " ('(bababadalgharaghtakamminarronnkonnbronntonnerronntuonnthunntrovarrhounawnskawntoohoohoordenenthurnuk!)',\n",
       "  103),\n",
       " ('(Perkodhuskurunbarggruauyagokgorlayorgromgremmitghundhurthrumathunaradidillifaititillibumullunukkunun!)',\n",
       "  103),\n",
       " ('Ullhodturdenweirmudgaardgringnirurdrmolnirfenrirlukkilokkibaugimandodrrerinsurtkrinmgernrackinarockar!',\n",
       "  102),\n",
       " ('(husstenhasstencaffincoffintussemtossemdamandamnacosaghcusaghhobixhatouxpeswchbechoscashlcarcarcaract)',\n",
       "  102),\n",
       " ('Lukkedoerendunandurraskewdylooshoofermoyportertooryzooysphalnabortansporthaokansakroidverjkapakkapuk.',\n",
       "  101),\n",
       " ('Bothallchoractorschumminaroundgansumuminarumdrumstrumtruminahumptadumpwaultopoofoolooderamaunsturnup!',\n",
       "  101),\n",
       " ('Bladyughfoulmoecklenburgwhurawhorascortastrumpapornanennykocksapastippatappatupperstrippuckputtanach,',\n",
       "  101),\n",
       " ('Thingcrooklyexineverypasturesixdixlikencehimaroundhersthemaggerbykinkinkankanwithdownmindlookingated.',\n",
       "  101),\n",
       " ('Pappappapparrassannuaragheallachnatullaghmonganmacmacmacwhackfalltherdebblenonthedubblandaddydoodled',\n",
       "  100)]"
      ]
     },
     "execution_count": 6,
     "metadata": {},
     "output_type": "execute_result"
    }
   ],
   "source": [
    "lw = wake.distinct().map(lambda x: (x,len(x)))\n",
    "lw.sortBy(lambda x: x[1], False).take(10)"
   ]
  },
  {
   "cell_type": "code",
   "execution_count": null,
   "metadata": {
    "application/vnd.databricks.v1+cell": {
     "cellMetadata": {
      "byteLimit": 2048000,
      "rowLimit": 10000
     },
     "inputWidgets": {},
     "nuid": "3ee1ef81-2663-4436-9b02-ac9262020ecc",
     "showTitle": false,
     "title": ""
    }
   },
   "outputs": [],
   "source": [
    "# Aggregation"
   ]
  },
  {
   "cell_type": "code",
   "execution_count": null,
   "metadata": {
    "application/vnd.databricks.v1+cell": {
     "cellMetadata": {
      "byteLimit": 2048000,
      "rowLimit": 10000
     },
     "inputWidgets": {},
     "nuid": "9c59150a-152b-4b6a-91d1-c6ff02cf0183",
     "showTitle": false,
     "title": ""
    }
   },
   "outputs": [],
   "source": [
    "wc = wake.map(lambda x : (x, 1))"
   ]
  },
  {
   "cell_type": "code",
   "execution_count": null,
   "metadata": {
    "application/vnd.databricks.v1+cell": {
     "cellMetadata": {
      "byteLimit": 2048000,
      "rowLimit": 10000
     },
     "inputWidgets": {},
     "nuid": "f4f96554-3db6-427e-8119-4b19886548ef",
     "showTitle": false,
     "title": ""
    }
   },
   "outputs": [
    {
     "data": {
      "text/plain": [
       "[('This', 1),\n",
       " ('eBook', 1),\n",
       " ('was', 1),\n",
       " ('produced', 1),\n",
       " ('by:', 1),\n",
       " ('Don', 1),\n",
       " ('Kretz,', 1),\n",
       " ('Al', 1),\n",
       " ('Haines,', 1),\n",
       " ('Howard', 1),\n",
       " ('Ross', 1),\n",
       " ('&', 1),\n",
       " ('the', 1),\n",
       " ('online', 1),\n",
       " ('Distributed', 1),\n",
       " ('Proofreaders', 1),\n",
       " ('Canada', 1),\n",
       " ('team', 1),\n",
       " ('at', 1),\n",
       " ('http://www.pgdpcanada.net', 1),\n",
       " (\"Transcriber's\", 1),\n",
       " ('Notes', 1),\n",
       " ('This', 1),\n",
       " ('transcription', 1),\n",
       " ('attempts', 1),\n",
       " ('to', 1),\n",
       " ('achieve', 1),\n",
       " ('a', 1),\n",
       " ('degree', 1),\n",
       " ('of', 1),\n",
       " ('hyphenation', 1),\n",
       " ('that', 1),\n",
       " ('is', 1),\n",
       " ('a', 1),\n",
       " ('compromise', 1),\n",
       " ('between', 1),\n",
       " ('relaxing', 1),\n",
       " ('the', 1),\n",
       " ('rigid', 1),\n",
       " ('constraints', 1),\n",
       " ('of', 1),\n",
       " ('typesetting', 1),\n",
       " ('and', 1),\n",
       " ('retaining', 1),\n",
       " ('the', 1),\n",
       " ('page', 1),\n",
       " ('and', 1),\n",
       " ('line', 1),\n",
       " ('structure', 1),\n",
       " ('of', 1),\n",
       " ('the', 1),\n",
       " ('printed', 1),\n",
       " ('book.', 1),\n",
       " ('End-of-line', 1),\n",
       " ('and', 1),\n",
       " ('end-of-page', 1),\n",
       " ('hyphens', 1),\n",
       " ('were', 1),\n",
       " ('removed', 1),\n",
       " ('in', 1),\n",
       " ('a', 1),\n",
       " ('manner', 1),\n",
       " ('compatible', 1),\n",
       " ('with', 1),\n",
       " ('the', 1),\n",
       " ('Concordance', 1),\n",
       " ('of', 1),\n",
       " ('Finnegans', 1),\n",
       " ('Wake', 1),\n",
       " ('compiled', 1),\n",
       " ('by', 1),\n",
       " ('Eric', 1),\n",
       " ('Rosenbloom', 1),\n",
       " ('(http://www.rosenlake.net/fw/FWconcordance/)', 1),\n",
       " ('and', 1),\n",
       " ('The', 1),\n",
       " ('Finnegans', 1),\n",
       " ('Wake', 1),\n",
       " ('Extensible', 1),\n",
       " ('Elucidation', 1),\n",
       " ('Treasury', 1),\n",
       " ('(FWEET)', 1),\n",
       " ('website', 1),\n",
       " ('(http://www.fweet.org/),', 1),\n",
       " ('both', 1),\n",
       " ('visited', 1),\n",
       " ('on', 1),\n",
       " ('2017-Nov-05.', 1),\n",
       " ('Line', 1),\n",
       " ('and', 1),\n",
       " ('page', 1),\n",
       " ('breaks', 1),\n",
       " ('have', 1),\n",
       " ('been', 1),\n",
       " ('retained', 1),\n",
       " ('as', 1),\n",
       " ('in', 1),\n",
       " ('the', 1),\n",
       " ('original,', 1),\n",
       " ('except', 1)]"
      ]
     },
     "execution_count": 9,
     "metadata": {},
     "output_type": "execute_result"
    }
   ],
   "source": [
    "wc.take(100)"
   ]
  },
  {
   "cell_type": "code",
   "execution_count": null,
   "metadata": {
    "application/vnd.databricks.v1+cell": {
     "cellMetadata": {
      "byteLimit": 2048000,
      "rowLimit": 10000
     },
     "inputWidgets": {},
     "nuid": "dea98cfd-4949-4597-b203-ba29f1a18cb8",
     "showTitle": false,
     "title": ""
    }
   },
   "outputs": [],
   "source": [
    "a = wc.reduceByKey(lambda x,y : x+y)"
   ]
  },
  {
   "cell_type": "code",
   "execution_count": null,
   "metadata": {
    "application/vnd.databricks.v1+cell": {
     "cellMetadata": {
      "byteLimit": 2048000,
      "rowLimit": 10000
     },
     "inputWidgets": {},
     "nuid": "dff42ffe-6db7-4783-869d-d619835120d8",
     "showTitle": false,
     "title": ""
    }
   },
   "outputs": [
    {
     "data": {
      "text/plain": [
       "[('—Nohow', 1),\n",
       " ('he', 1471),\n",
       " ('kersse', 5),\n",
       " ('alike', 8),\n",
       " ('suit', 13),\n",
       " ('solder', 2),\n",
       " ('skins,', 1),\n",
       " ('breachesmaker', 1),\n",
       " ('way', 137),\n",
       " ('munchantman,', 1)]"
      ]
     },
     "execution_count": 11,
     "metadata": {},
     "output_type": "execute_result"
    }
   ],
   "source": [
    "a.take(10)"
   ]
  },
  {
   "cell_type": "code",
   "execution_count": null,
   "metadata": {
    "application/vnd.databricks.v1+cell": {
     "cellMetadata": {
      "byteLimit": 2048000,
      "rowLimit": 10000
     },
     "inputWidgets": {},
     "nuid": "937aedec-e951-42d0-91f2-71807a98c497",
     "showTitle": false,
     "title": ""
    }
   },
   "outputs": [
    {
     "data": {
      "text/plain": [
       "[('the', 11250),\n",
       " ('and', 7366),\n",
       " ('of', 6975),\n",
       " ('to', 4293),\n",
       " ('a', 4236),\n",
       " ('in', 3411),\n",
       " ('his', 2853),\n",
       " ('for', 2190)]"
      ]
     },
     "execution_count": 12,
     "metadata": {},
     "output_type": "execute_result"
    }
   ],
   "source": [
    "a.filter(lambda x: x[1]> 2000).sortBy(lambda x: x[1],False).collect()"
   ]
  }
 ],
 "metadata": {
  "application/vnd.databricks.v1+notebook": {
   "dashboards": [],
   "language": "python",
   "notebookMetadata": {
    "pythonIndentUnit": 2
   },
   "notebookName": "Spark RDD Finnegans Wake",
   "widgets": {}
  },
  "language_info": {
   "name": "python"
  }
 },
 "nbformat": 4,
 "nbformat_minor": 0
}
