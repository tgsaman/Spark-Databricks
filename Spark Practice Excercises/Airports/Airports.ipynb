{
 "cells": [
  {
   "cell_type": "code",
   "execution_count": 0,
   "metadata": {
    "application/vnd.databricks.v1+cell": {
     "cellMetadata": {
      "byteLimit": 2048000,
      "rowLimit": 10000
     },
     "inputWidgets": {},
     "nuid": "e5d12d68-8de4-405a-b3e7-6f11faf8b0ab",
     "showTitle": false,
     "title": ""
    }
   },
   "outputs": [],
   "source": [
    " df = spark.read.json('/FileStore/sample/airport_codes_json.json')   \n",
    "\n",
    " df = spark.read.format('json').load('/FileStore/sample/airport_codes_json.json')    "
   ]
  },
  {
   "cell_type": "code",
   "execution_count": 0,
   "metadata": {
    "application/vnd.databricks.v1+cell": {
     "cellMetadata": {
      "byteLimit": 2048000,
      "rowLimit": 10000
     },
     "inputWidgets": {},
     "nuid": "c9f11741-7b0d-4c4c-b55c-d5567155f9d8",
     "showTitle": false,
     "title": ""
    }
   },
   "outputs": [
    {
     "output_type": "stream",
     "name": "stdout",
     "output_type": "stream",
     "text": [
      "root\n |-- continent: string (nullable = true)\n |-- coordinates: string (nullable = true)\n |-- elevation_ft: string (nullable = true)\n |-- gps_code: string (nullable = true)\n |-- iata_code: string (nullable = true)\n |-- ident: string (nullable = true)\n |-- iso_country: string (nullable = true)\n |-- iso_region: string (nullable = true)\n |-- local_code: string (nullable = true)\n |-- municipality: string (nullable = true)\n |-- name: string (nullable = true)\n |-- type: string (nullable = true)\n\n"
     ]
    }
   ],
   "source": [
    "df.printSchema()"
   ]
  },
  {
   "cell_type": "code",
   "execution_count": 0,
   "metadata": {
    "application/vnd.databricks.v1+cell": {
     "cellMetadata": {
      "byteLimit": 2048000,
      "rowLimit": 10000
     },
     "inputWidgets": {},
     "nuid": "a1b500da-cc24-465c-9cec-1d90ee95b73d",
     "showTitle": false,
     "title": ""
    }
   },
   "outputs": [
    {
     "output_type": "stream",
     "name": "stdout",
     "output_type": "stream",
     "text": [
      "+---------+--------------------+------------+--------+---------+-----+-----------+----------+----------+------------+--------------------+-------------+\n|continent|         coordinates|elevation_ft|gps_code|iata_code|ident|iso_country|iso_region|local_code|municipality|                name|         type|\n+---------+--------------------+------------+--------+---------+-----+-----------+----------+----------+------------+--------------------+-------------+\n|       NA|-74.9336013793945...|          11|     00A|     NULL|  00A|         US|     US-PA|       00A|    Bensalem|   Total Rf Heliport|     heliport|\n|       NA|-101.473911, 38.7...|        3435|    00AA|     NULL| 00AA|         US|     US-KS|      00AA|       Leoti|Aero B Ranch Airport|small_airport|\n|       NA|-151.695999146, 5...|         450|    00AK|     NULL| 00AK|         US|     US-AK|      00AK|Anchor Point|        Lowell Field|small_airport|\n|       NA|-86.7703018188476...|         820|    00AL|     NULL| 00AL|         US|     US-AL|      00AL|     Harvest|        Epps Airpark|small_airport|\n|       NA| -91.254898, 35.6087|         237|    NULL|     NULL| 00AR|         US|     US-AR|      NULL|     Newport|Newport Hospital ...|       closed|\n|       NA|-97.8180194, 34.9...|        1100|    00AS|     NULL| 00AS|         US|     US-OK|      00AS|        Alex|      Fulton Airport|small_airport|\n|       NA|-112.165000915527...|        3810|    00AZ|     NULL| 00AZ|         US|     US-AZ|      00AZ|      Cordes|      Cordes Airport|small_airport|\n|       NA|-116.888000488, 3...|        3038|    00CA|     NULL| 00CA|         US|     US-CA|      00CA|     Barstow|Goldstone /Gts/ A...|small_airport|\n|       NA|-121.763427, 39.4...|          87|    00CL|     NULL| 00CL|         US|     US-CA|      00CL|       Biggs| Williams Ag Airport|small_airport|\n|       NA|-116.4597417, 32....|        3350|    00CN|     NULL| 00CN|         US|     US-CA|      00CN| Pine Valley|Kitchen Creek Hel...|     heliport|\n|       NA|-104.344002, 40.6...|        4830|    NULL|     NULL| 00CO|         US|     US-CO|      NULL|  Briggsdale|          Cass Field|       closed|\n|       NA|-82.2190017700195...|          53|    00FA|     NULL| 00FA|         US|     US-FL|      00FA|    Bushnell| Grass Patch Airport|small_airport|\n|       NA|-82.3453979492187...|          25|    00FD|     NULL| 00FD|         US|     US-FL|      00FD|   Riverview|  Ringhaver Heliport|     heliport|\n|       NA|-80.9692001342773...|          35|    00FL|     NULL| 00FL|         US|     US-FL|      00FL|  Okeechobee|   River Oak Airport|small_airport|\n|       NA|-84.0682983398437...|         700|    00GA|     NULL| 00GA|         US|     US-GA|      00GA|    Lithonia|    Lt World Airport|small_airport|\n|       NA|-84.7339019775390...|         957|    00GE|     NULL| 00GE|         US|     US-GA|      00GE|       Hiram|    Caffrey Heliport|     heliport|\n|       NA|-155.980233, 19.8...|          43|    00HI|     NULL| 00HI|         US|     US-HI|      00HI| Kailua-Kona|  Kaupulehu Heliport|     heliport|\n|       NA|-116.213996887207...|        2064|    00ID|     NULL| 00ID|         US|     US-ID|      00ID|  Clark Fork|Delta Shores Airport|small_airport|\n|       NA|-101.395994, 39.7...|        3359|    00IG|     NULL| 00IG|         US|     US-KS|      00IG|    McDonald|       Goltl Airport|small_airport|\n|       NA|-87.122802734375,...|         600|    00II|     NULL| 00II|         US|     US-IN|      00II|  Chesterton|Bailey Generation...|     heliport|\n+---------+--------------------+------------+--------+---------+-----+-----------+----------+----------+------------+--------------------+-------------+\nonly showing top 20 rows\n\n"
     ]
    }
   ],
   "source": [
    "df.show()"
   ]
  },
  {
   "cell_type": "code",
   "execution_count": 0,
   "metadata": {
    "application/vnd.databricks.v1+cell": {
     "cellMetadata": {},
     "inputWidgets": {},
     "nuid": "c961f26b-46a5-4d88-82f2-3596a6b5129e",
     "showTitle": false,
     "title": ""
    }
   },
   "outputs": [],
   "source": []
  }
 ],
 "metadata": {
  "application/vnd.databricks.v1+notebook": {
   "dashboards": [],
   "language": "python",
   "notebookMetadata": {
    "pythonIndentUnit": 4
   },
   "notebookName": "Airports",
   "widgets": {}
  }
 },
 "nbformat": 4,
 "nbformat_minor": 0
}
