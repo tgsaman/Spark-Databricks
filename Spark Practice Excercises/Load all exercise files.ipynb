{
 "cells": [
  {
   "cell_type": "code",
   "execution_count": 0,
   "metadata": {
    "application/vnd.databricks.v1+cell": {
     "cellMetadata": {
      "byteLimit": 2048000,
      "rowLimit": 10000
     },
     "inputWidgets": {},
     "nuid": "804fd4f0-ed0a-4430-9e21-3a8b140a5e68",
     "showTitle": false,
     "title": ""
    }
   },
   "outputs": [],
   "source": [
    "import os\n",
    "from pyspark import SparkFiles"
   ]
  },
  {
   "cell_type": "code",
   "execution_count": 0,
   "metadata": {
    "application/vnd.databricks.v1+cell": {
     "cellMetadata": {
      "byteLimit": 2048000,
      "rowLimit": 10000
     },
     "inputWidgets": {},
     "nuid": "85d371ca-0ec2-4c20-b470-21873d9d68f1",
     "showTitle": false,
     "title": ""
    }
   },
   "outputs": [],
   "source": [
    "\n",
    "\n",
    "fileList = [\n",
    "  ['https://raw.githubusercontent.com/bbc/datalab-ml-training/master/datafest/bbc_news/tech/001.txt'  , '001.txt']\n",
    " ,['https://raw.githubusercontent.com/bbc/datalab-ml-training/master/datafest/bbc_news/tech/031.txt'  , '031.txt']\n",
    " ,['https://raw.githubusercontent.com/git/git/master/Documentation/git.txt'                           , 'git.txt']\n",
    " ,['https://archive.ics.uci.edu/ml/machine-learning-databases/wine/wine.data'                         , 'wine.data']\n",
    " ,['https://raw.githubusercontent.com/databricks/spark-xml/master/src/test/resources/books.xml'       , 'books.xml']\n",
    " ,['https://data.london.gov.uk/download/lsoa-atlas/0193f884-2ccd-49c2-968e-28aa3b1c480d/lsoa-data.csv', 'lsoa-data.csv']\n",
    " ,['http://www.gutenberg.org/files/100/100-0.txt'                                                     , 'shakeswork.txt']\n",
    " ,['https://gitlab.com/opstar/share20/-/raw/master/fwake.txt'                                         , 'fwake.txt']\n",
    " ,['https://gitlab.com/opstar/share20/-/raw/master/shrekscript.txt'                                   , 'shrekscript.txt']\n",
    " ,['https://gitlab.com/opstar/share20/-/raw/master/student.txt'                                       , 'student.txt']\n",
    " ,['https://gitlab.com/opstar/share20/-/raw/master/products.txt'                                      , 'products.txt']\n",
    " ,['https://gitlab.com/opstar/share20/-/raw/master/employees.txt'                                     , 'employees.txt']\n",
    " ,['https://gitlab.com/opstar/share20/-/raw/master/pubbook.txt'                                       , 'pubbook.txt']\n",
    " ,['https://gitlab.com/opstar/share20/-/raw/master/westwcustomer.txt'                                 , 'westwcustomer.txt']\n",
    " ,['https://gitlab.com/opstar/share20/-/raw/master/westwproduct.txt'                                  , 'westwproduct.txt']\n",
    " ,['https://gitlab.com/opstar/share20/-/raw/master/westworder.txt'                                    , 'westworder.txt']\n",
    " ,['https://gitlab.com/opstar/share20/-/raw/master/carx0.json'                                        , 'carx0.json']\n",
    " ,['https://gitlab.com/opstar/share20/-/raw/master/carx1.json'                                        , 'carx1.json']\n",
    " ,['https://gitlab.com/opstar/share20/-/raw/master/filmcatalog.txt'                                   , 'filmcatalog.txt']\n",
    " ,['https://gitlab.com/opstar/share20/-/raw/master/filmsales.txt'                                     , 'filmsales.txt']\n",
    " ,['https://gitlab.com/opstar/share20/-/raw/master/loremtext'                                         , 'loremtext']\n",
    " ,['https://gitlab.com/opstar/share20/-/raw/master/librariesList.xml'                                 , 'librariesList.xml']\n",
    " ,['https://gitlab.com/opstar/share20/-/raw/master/planes.xml'                                        , 'planes.xml']\n",
    " ,['https://gitlab.com/opstar/share20/-/raw/master/teams.xml'                                         , 'teams.xml']\n",
    " ,['https://gitlab.com/opstar/share20/-/raw/master/worldfact.xml'                                     , 'worldfact.xml']\n",
    " ,['https://gitlab.com/opstar/share20/-/raw/master/product_hierarchy.json'                            , 'product_hierarchy.json']\n",
    " ,['https://gitlab.com/opstar/share20/-/raw/master/sandp_stocks.csv'                                  , 'sandp_stocks.csv']\n",
    " ,['https://gitlab.com/opstar/share20/-/raw/master/widget.txt'                                        , 'widget.txt']\n",
    " ,['https://gitlab.com/opstar/share20/-/raw/master/sakfilm.txt'                                       , 'sakfilm.txt']\n",
    " ,['https://gitlab.com/opstar/share20/-/raw/master/sakrental.txt'                                     , 'sakrental.txt']\n",
    " ,['https://gitlab.com/opstar/share20/-/raw/master/policy.txt'                                        , 'policy.txt']\n",
    " ]\n",
    " \n",
    "for f in fileList:\n",
    "    sc.addFile( f[0] )\n",
    "    dbutils.fs.cp('file://'+SparkFiles.get(os.path.split(f[0])[1]), 'dbfs:/FileStore/sample/'+f[1])\n",
    " \n",
    " "
   ]
  },
  {
   "cell_type": "code",
   "execution_count": 0,
   "metadata": {
    "application/vnd.databricks.v1+cell": {
     "cellMetadata": {
      "byteLimit": 2048000,
      "rowLimit": 10000
     },
     "inputWidgets": {},
     "nuid": "c4d895a9-f396-452a-8598-69a6e2498de8",
     "showTitle": false,
     "title": ""
    }
   },
   "outputs": [
    {
     "output_type": "display_data",
     "data": {
      "text/html": [
       "<style scoped>\n",
       "  .table-result-container {\n",
       "    max-height: 300px;\n",
       "    overflow: auto;\n",
       "  }\n",
       "  table, th, td {\n",
       "    border: 1px solid black;\n",
       "    border-collapse: collapse;\n",
       "  }\n",
       "  th, td {\n",
       "    padding: 5px;\n",
       "  }\n",
       "  th {\n",
       "    text-align: left;\n",
       "  }\n",
       "</style><div class='table-result-container'><table class='table-result'><thead style='background-color: white'><tr><th>path</th><th>name</th><th>size</th><th>modificationTime</th></tr></thead><tbody><tr><td>dbfs:/FileStore/sample/001.txt</td><td>001.txt</td><td>4044</td><td>1712102687000</td></tr><tr><td>dbfs:/FileStore/sample/031.txt</td><td>031.txt</td><td>5220</td><td>1712102688000</td></tr><tr><td>dbfs:/FileStore/sample/books.xml</td><td>books.xml</td><td>5542</td><td>1712102689000</td></tr><tr><td>dbfs:/FileStore/sample/carx0.json</td><td>carx0.json</td><td>26433</td><td>1712102694000</td></tr><tr><td>dbfs:/FileStore/sample/carx1.json</td><td>carx1.json</td><td>7231</td><td>1712102695000</td></tr><tr><td>dbfs:/FileStore/sample/employees.txt</td><td>employees.txt</td><td>8751</td><td>1712102693000</td></tr><tr><td>dbfs:/FileStore/sample/filmcatalog.txt</td><td>filmcatalog.txt</td><td>199040</td><td>1712102695000</td></tr><tr><td>dbfs:/FileStore/sample/filmsales.txt</td><td>filmsales.txt</td><td>1361893</td><td>1712102695000</td></tr><tr><td>dbfs:/FileStore/sample/fwake.txt</td><td>fwake.txt</td><td>1304951</td><td>1712102691000</td></tr><tr><td>dbfs:/FileStore/sample/git.txt</td><td>git.txt</td><td>42557</td><td>1712102688000</td></tr><tr><td>dbfs:/FileStore/sample/librariesList.xml</td><td>librariesList.xml</td><td>4758</td><td>1712102696000</td></tr><tr><td>dbfs:/FileStore/sample/loremtext</td><td>loremtext</td><td>4176</td><td>1712102696000</td></tr><tr><td>dbfs:/FileStore/sample/lsoa-data.csv</td><td>lsoa-data.csv</td><td>5427580</td><td>1712102691000</td></tr><tr><td>dbfs:/FileStore/sample/planes.xml</td><td>planes.xml</td><td>582</td><td>1712102696000</td></tr><tr><td>dbfs:/FileStore/sample/policy.txt</td><td>policy.txt</td><td>32800</td><td>1712102700000</td></tr><tr><td>dbfs:/FileStore/sample/product_hierarchy.json</td><td>product_hierarchy.json</td><td>17382</td><td>1712102697000</td></tr><tr><td>dbfs:/FileStore/sample/products.txt</td><td>products.txt</td><td>208</td><td>1712102692000</td></tr><tr><td>dbfs:/FileStore/sample/pubbook.txt</td><td>pubbook.txt</td><td>1571</td><td>1712102693000</td></tr><tr><td>dbfs:/FileStore/sample/sakfilm.txt</td><td>sakfilm.txt</td><td>199040</td><td>1712102700000</td></tr><tr><td>dbfs:/FileStore/sample/sakrental.txt</td><td>sakrental.txt</td><td>1297717</td><td>1712102700000</td></tr><tr><td>dbfs:/FileStore/sample/sandp_stocks.csv</td><td>sandp_stocks.csv</td><td>29580549</td><td>1712102699000</td></tr><tr><td>dbfs:/FileStore/sample/shakeswork.txt</td><td>shakeswork.txt</td><td>0</td><td>1712102691000</td></tr><tr><td>dbfs:/FileStore/sample/shrekscript.txt</td><td>shrekscript.txt</td><td>64411</td><td>1712102692000</td></tr><tr><td>dbfs:/FileStore/sample/student.txt</td><td>student.txt</td><td>207</td><td>1712102692000</td></tr><tr><td>dbfs:/FileStore/sample/teams.xml</td><td>teams.xml</td><td>217</td><td>1712102697000</td></tr><tr><td>dbfs:/FileStore/sample/westwcustomer.txt</td><td>westwcustomer.txt</td><td>4429</td><td>1712102693000</td></tr><tr><td>dbfs:/FileStore/sample/westworder.txt</td><td>westworder.txt</td><td>221033</td><td>1712102694000</td></tr><tr><td>dbfs:/FileStore/sample/westwproduct.txt</td><td>westwproduct.txt</td><td>3308</td><td>1712102694000</td></tr><tr><td>dbfs:/FileStore/sample/widget.txt</td><td>widget.txt</td><td>1072</td><td>1712102699000</td></tr><tr><td>dbfs:/FileStore/sample/wine.data</td><td>wine.data</td><td>10782</td><td>1712102688000</td></tr><tr><td>dbfs:/FileStore/sample/worldfact.xml</td><td>worldfact.xml</td><td>1784768</td><td>1712102697000</td></tr></tbody></table></div>"
      ]
     },
     "metadata": {
      "application/vnd.databricks.v1+output": {
       "addedWidgets": {},
       "aggData": [],
       "aggError": "",
       "aggOverflow": false,
       "aggSchema": [],
       "aggSeriesLimitReached": false,
       "aggType": "",
       "arguments": {},
       "columnCustomDisplayInfos": {},
       "data": [
        [
         "dbfs:/FileStore/sample/001.txt",
         "001.txt",
         4044,
         1712102687000
        ],
        [
         "dbfs:/FileStore/sample/031.txt",
         "031.txt",
         5220,
         1712102688000
        ],
        [
         "dbfs:/FileStore/sample/books.xml",
         "books.xml",
         5542,
         1712102689000
        ],
        [
         "dbfs:/FileStore/sample/carx0.json",
         "carx0.json",
         26433,
         1712102694000
        ],
        [
         "dbfs:/FileStore/sample/carx1.json",
         "carx1.json",
         7231,
         1712102695000
        ],
        [
         "dbfs:/FileStore/sample/employees.txt",
         "employees.txt",
         8751,
         1712102693000
        ],
        [
         "dbfs:/FileStore/sample/filmcatalog.txt",
         "filmcatalog.txt",
         199040,
         1712102695000
        ],
        [
         "dbfs:/FileStore/sample/filmsales.txt",
         "filmsales.txt",
         1361893,
         1712102695000
        ],
        [
         "dbfs:/FileStore/sample/fwake.txt",
         "fwake.txt",
         1304951,
         1712102691000
        ],
        [
         "dbfs:/FileStore/sample/git.txt",
         "git.txt",
         42557,
         1712102688000
        ],
        [
         "dbfs:/FileStore/sample/librariesList.xml",
         "librariesList.xml",
         4758,
         1712102696000
        ],
        [
         "dbfs:/FileStore/sample/loremtext",
         "loremtext",
         4176,
         1712102696000
        ],
        [
         "dbfs:/FileStore/sample/lsoa-data.csv",
         "lsoa-data.csv",
         5427580,
         1712102691000
        ],
        [
         "dbfs:/FileStore/sample/planes.xml",
         "planes.xml",
         582,
         1712102696000
        ],
        [
         "dbfs:/FileStore/sample/policy.txt",
         "policy.txt",
         32800,
         1712102700000
        ],
        [
         "dbfs:/FileStore/sample/product_hierarchy.json",
         "product_hierarchy.json",
         17382,
         1712102697000
        ],
        [
         "dbfs:/FileStore/sample/products.txt",
         "products.txt",
         208,
         1712102692000
        ],
        [
         "dbfs:/FileStore/sample/pubbook.txt",
         "pubbook.txt",
         1571,
         1712102693000
        ],
        [
         "dbfs:/FileStore/sample/sakfilm.txt",
         "sakfilm.txt",
         199040,
         1712102700000
        ],
        [
         "dbfs:/FileStore/sample/sakrental.txt",
         "sakrental.txt",
         1297717,
         1712102700000
        ],
        [
         "dbfs:/FileStore/sample/sandp_stocks.csv",
         "sandp_stocks.csv",
         29580549,
         1712102699000
        ],
        [
         "dbfs:/FileStore/sample/shakeswork.txt",
         "shakeswork.txt",
         0,
         1712102691000
        ],
        [
         "dbfs:/FileStore/sample/shrekscript.txt",
         "shrekscript.txt",
         64411,
         1712102692000
        ],
        [
         "dbfs:/FileStore/sample/student.txt",
         "student.txt",
         207,
         1712102692000
        ],
        [
         "dbfs:/FileStore/sample/teams.xml",
         "teams.xml",
         217,
         1712102697000
        ],
        [
         "dbfs:/FileStore/sample/westwcustomer.txt",
         "westwcustomer.txt",
         4429,
         1712102693000
        ],
        [
         "dbfs:/FileStore/sample/westworder.txt",
         "westworder.txt",
         221033,
         1712102694000
        ],
        [
         "dbfs:/FileStore/sample/westwproduct.txt",
         "westwproduct.txt",
         3308,
         1712102694000
        ],
        [
         "dbfs:/FileStore/sample/widget.txt",
         "widget.txt",
         1072,
         1712102699000
        ],
        [
         "dbfs:/FileStore/sample/wine.data",
         "wine.data",
         10782,
         1712102688000
        ],
        [
         "dbfs:/FileStore/sample/worldfact.xml",
         "worldfact.xml",
         1784768,
         1712102697000
        ]
       ],
       "datasetInfos": [],
       "dbfsResultPath": null,
       "isJsonSchema": true,
       "metadata": {
        "isDbfsCommandResult": false
       },
       "overflow": false,
       "plotOptions": {
        "customPlotOptions": {},
        "displayType": "table",
        "pivotAggregation": null,
        "pivotColumns": null,
        "xColumns": null,
        "yColumns": null
       },
       "removedWidgets": [],
       "schema": [
        {
         "metadata": "{}",
         "name": "path",
         "type": "\"string\""
        },
        {
         "metadata": "{}",
         "name": "name",
         "type": "\"string\""
        },
        {
         "metadata": "{}",
         "name": "size",
         "type": "\"long\""
        },
        {
         "metadata": "{}",
         "name": "modificationTime",
         "type": "\"long\""
        }
       ],
       "type": "table"
      }
     },
     "output_type": "display_data"
    }
   ],
   "source": [
    "%fs\n",
    "\n",
    "ls /FileStore/sample"
   ]
  }
 ],
 "metadata": {
  "application/vnd.databricks.v1+notebook": {
   "dashboards": [],
   "language": "python",
   "notebookMetadata": {
    "mostRecentlyExecutedCommandWithImplicitDF": {
     "commandId": 1535790520580753,
     "dataframes": [
      "_sqldf"
     ]
    },
    "pythonIndentUnit": 4
   },
   "notebookName": "Load all exercise files",
   "widgets": {}
  }
 },
 "nbformat": 4,
 "nbformat_minor": 0
}
