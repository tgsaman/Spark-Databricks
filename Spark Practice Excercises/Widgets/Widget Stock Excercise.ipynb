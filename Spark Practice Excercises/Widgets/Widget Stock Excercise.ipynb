{
 "cells": [
  {
   "cell_type": "markdown",
   "metadata": {},
   "source": [
    "# Spark Widget Stock\n",
    "\n",
    "1. Create the following list and then convert the list to a dataframe with a single partition and with six columns named:'supplier','part','description','price','qty','dt'"
   ]
  },
  {
   "cell_type": "code",
   "execution_count": null,
   "metadata": {},
   "outputs": [],
   "source": [
    "widget = [\n",
    "('ACI','41002','Size 2 Widget',76.00,167,'2020-01-22')\n",
    ",('ACI','41003','Size 3 Widget',110.00,207,'2020-01-11')\n",
    ",('ACI','41004','Size 4 Widget',117.00,139,'2019-12-27')\n",
    ",('ACI','4100X','Widget Adjuster',25.00,37,'2020-02-18')\n",
    ",('ACI','4100Y','Widget Remover',2750.00,25,'2019-12-31')\n",
    ",('ACI','4100Z','Size 1 Widget',55.00,277,'2020-01-30')\n",
    ",('ACI','41001','Widget Installer',2500.00,28,'2019-12-10')\n",
    ",('BIC','41003','Handle',652.00,3,'2020-01-14')\n",
    ",('BIC','41089','Retainer',225.00,78,'2020-01-10')\n",
    ",('BIC','41675','Plate',180.00,0,'2019-12-18')]"
   ]
  },
  {
   "cell_type": "code",
   "execution_count": 1,
   "metadata": {},
   "outputs": [
    {
     "ename": "SyntaxError",
     "evalue": "(unicode error) 'unicodeescape' codec can't decode bytes in position 2-3: truncated \\UXXXXXXXX escape (275543266.py, line 7)",
     "output_type": "error",
     "traceback": [
      "\u001b[1;36m  Cell \u001b[1;32mIn[1], line 7\u001b[1;36m\u001b[0m\n\u001b[1;33m    .load('C:\\Users\\ThomasSamandi\\Python\\7-Spark\\Excercises\\Widgets\\widget.txt')\u001b[0m\n\u001b[1;37m                                                                               ^\u001b[0m\n\u001b[1;31mSyntaxError\u001b[0m\u001b[1;31m:\u001b[0m (unicode error) 'unicodeescape' codec can't decode bytes in position 2-3: truncated \\UXXXXXXXX escape\n"
     ]
    }
   ],
   "source": [
    "#Alternative import if drawing from Databricks filestore:\n",
    "import pyspark\n",
    "\n",
    "widget = spark.read.format('csv') \\\n",
    "\t.option('header','False') \\\n",
    "\t.option('delimiter',',') \\\n",
    "\t.load('C:\\Users\\ThomasSamandi\\Python\\7-Spark\\Excercises\\Widgets\\widget.txt')"
   ]
  },
  {
   "cell_type": "code",
   "execution_count": null,
   "metadata": {},
   "outputs": [],
   "source": [
    "w = sc.parallelize(widget)\n",
    "\n",
    "myDF = w.toDF(['supplier','part','description','price','qty','dt'])"
   ]
  },
  {
   "cell_type": "markdown",
   "metadata": {},
   "source": [
    "2. Display the result using show().\n"
   ]
  },
  {
   "cell_type": "code",
   "execution_count": null,
   "metadata": {
    "vscode": {
     "languageId": "html"
    }
   },
   "outputs": [],
   "source": [
    "+--------+-----+----------------+------+---+----------+\n",
    "|supplier| part|     description| price|qty|        dt|\n",
    "+--------+-----+----------------+------+---+----------+\n",
    "|     ACI|41002|   Size 2 Widget|  76.0|167|2020-01-22|\n",
    "|     ACI|41003|   Size 3 Widget| 110.0|207|2020-01-11|\n",
    "|     ACI|41004|   Size 4 Widget| 117.0|139|2019-12-27|\n",
    "|     ACI|4100X| Widget Adjuster|  25.0| 37|2020-02-18|\n",
    "|     ACI|4100Y|  Widget Remover|2750.0| 25|2019-12-31|\n",
    "|     ACI|4100Z|   Size 1 Widget|  55.0|277|2020-01-30|\n",
    "|     ACI|41001|Widget Installer|2500.0| 28|2019-12-10|\n",
    "|     BIC|41003|          Handle| 652.0|  3|2020-01-14|\n",
    "|     BIC|41089|        Retainer| 225.0| 78|2020-01-10|\n",
    "|     BIC|41675|           Plate| 180.0|  0|2019-12-18|\n",
    "+--------+-----+----------------+------+---+----------+"
   ]
  },
  {
   "cell_type": "code",
   "execution_count": null,
   "metadata": {},
   "outputs": [],
   "source": [
    "myDF.show()"
   ]
  },
  {
   "cell_type": "code",
   "execution_count": null,
   "metadata": {},
   "outputs": [],
   "source": [
    "z = w.withColumn('x',w.qty*100)\n",
    "\n",
    "z.show()"
   ]
  },
  {
   "cell_type": "code",
   "execution_count": null,
   "metadata": {},
   "outputs": [],
   "source": [
    "z = w.drop('qty').drop('dt')\n",
    "z.show()"
   ]
  },
  {
   "cell_type": "markdown",
   "metadata": {},
   "source": [
    "3. Use printSchema() to examine the schema of the dataframe you just created. You should see that the qty column is a long and the dt column is a string."
   ]
  },
  {
   "cell_type": "code",
   "execution_count": null,
   "metadata": {},
   "outputs": [],
   "source": [
    "myDF.printSchema()"
   ]
  },
  {
   "cell_type": "markdown",
   "metadata": {},
   "source": [
    "4. Create a new dataframe with the column qty converted to an integer and dt converted to a date. \n",
    "   \n",
    "   The cast() function on the column class is used to convert the type: \n",
    "   p.dt.cast('date'). \n",
    "   \n",
    "   You can examine the schema of your new dataframe using printSchema."
   ]
  },
  {
   "cell_type": "code",
   "execution_count": null,
   "metadata": {},
   "outputs": [],
   "source": [
    "castedDF = myDF.select(myDF.supplier, myDF.part, myDF.description, myDF.price.cast('int'), myDF.qty.cast('int'), myDF.dt.cast('date'))\n",
    "castedDF.printSchema()"
   ]
  },
  {
   "cell_type": "markdown",
   "metadata": {},
   "source": [
    "5. Define a new dataframe that only includes rows where the supplier is ACI and with an extra column that multiplies quantity with price (price x qty). \n",
    "   \n",
    "   \n",
    "   The result should be:"
   ]
  },
  {
   "cell_type": "code",
   "execution_count": null,
   "metadata": {
    "vscode": {
     "languageId": "html"
    }
   },
   "outputs": [],
   "source": [
    "+--------+-----+----------------+------+---+----------+-------------+\n",
    "|supplier| part|     description| price|qty|        dt|(price * qty)|\n",
    "+--------+-----+----------------+------+---+----------+-------------+\n",
    "|     ACI|41002|   Size 2 Widget|  76.0|167|2020-01-22|      12692.0|\n",
    "|     ACI|41003|   Size 3 Widget| 110.0|207|2020-01-11|      22770.0|\n",
    "|     ACI|41004|   Size 4 Widget| 117.0|139|2019-12-27|      16263.0|\n",
    "|     ACI|4100X| Widget Adjuster|  25.0| 37|2020-02-18|        925.0|\n",
    "|     ACI|4100Y|  Widget Remover|2750.0| 25|2019-12-31|      68750.0|\n",
    "|     ACI|4100Z|   Size 1 Widget|  55.0|277|2020-01-30|      15235.0|\n",
    "|     ACI|41001|Widget Installer|2500.0| 28|2019-12-10|      70000.0|\n",
    "+--------+-----+----------------+------+---+----------+-------------+"
   ]
  },
  {
   "cell_type": "code",
   "execution_count": null,
   "metadata": {},
   "outputs": [],
   "source": [
    "r = castedDF.select().where(castedDF.supplier=='ACI').withColumn('revenue' == 'qty'*'price')\n",
    "r.show()"
   ]
  }
 ],
 "metadata": {
  "kernelspec": {
   "display_name": "Python 3",
   "language": "python",
   "name": "python3"
  },
  "language_info": {
   "codemirror_mode": {
    "name": "ipython",
    "version": 3
   },
   "file_extension": ".py",
   "mimetype": "text/x-python",
   "name": "python",
   "nbconvert_exporter": "python",
   "pygments_lexer": "ipython3",
   "version": "undefined.undefined.undefined"
  }
 },
 "nbformat": 4,
 "nbformat_minor": 2
}
